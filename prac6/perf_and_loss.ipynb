{
 "cells": [
  {
   "cell_type": "code",
   "execution_count": 12,
   "metadata": {},
   "outputs": [],
   "source": [
    "import pandas as pd"
   ]
  },
  {
   "cell_type": "code",
   "execution_count": 11,
   "metadata": {},
   "outputs": [
    {
     "name": "stdout",
     "output_type": "stream",
     "text": [
      "  0.73 0 1 0 0 0 0 0 1 0 0 0 0 0 0 0 0.0006 0.015 0.12 0.082 0.146 3  \n",
      "0  0.24 0 0 0 0 0 0 0 0 0 0 0 0 0 0 0 0.00025 0.0...                  \n",
      "1  0.47 0 0 0 0 0 0 0 0 0 0 0 0 0 0 0 0.0019 0.02...                  \n",
      "2  0.64 1 0 0 0 0 0 0 0 0 0 0 0 0 0 0 0.0009 0.01...                  \n",
      "3  0.23 0 0 0 0 0 0 0 0 0 0 0 0 0 0 0 0.00025 0.0...                  \n",
      "4  0.69 1 0 0 0 0 0 0 0 0 0 0 0 0 0 0 0.00025 0.0...                  \n",
      "------------\n",
      "  0.29 0 0 0 0 0 0 0 0 0 0 0 0 0 0 0 0.0061 0.028 0.111 0.131 0.085 2  \n",
      "0  0.32 0 0 0 0 0 0 0 0 0 0 0 0 0 0 0 0.0013 0.01...                   \n",
      "1  0.35 0 0 0 0 0 0 0 0 0 0 0 0 0 0 0 0 0.031 0.2...                   \n",
      "2  0.21 0 0 0 0 0 0 0 0 0 0 0 0 0 0 0 0.001 0.018...                   \n",
      "3  0.22 0 0 0 0 1 0 0 0 0 0 0 0 0 0 0 0.0004 0.02...                   \n",
      "4  0.22 0 0 0 0 0 0 0 0 0 0 0 0 0 0 0 0.0016 0.02...                   \n"
     ]
    }
   ],
   "source": [
    "train = pd.read_csv('ann-train.data', header=0, na_values='?')\n",
    "test = pd.read_csv('ann-test.data', header=0, na_values='?')\n",
    "\n",
    "print(train.head())\n",
    "print(\"------------\")\n",
    "print(test.head())"
   ]
  }
 ],
 "metadata": {
  "kernelspec": {
   "display_name": "comp4702",
   "language": "python",
   "name": "python3"
  },
  "language_info": {
   "codemirror_mode": {
    "name": "ipython",
    "version": 3
   },
   "file_extension": ".py",
   "mimetype": "text/x-python",
   "name": "python",
   "nbconvert_exporter": "python",
   "pygments_lexer": "ipython3",
   "version": "3.11.0"
  },
  "orig_nbformat": 4
 },
 "nbformat": 4,
 "nbformat_minor": 2
}
