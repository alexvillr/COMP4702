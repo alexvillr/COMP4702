{
 "cells": [
  {
   "cell_type": "code",
   "execution_count": 1,
   "metadata": {},
   "outputs": [],
   "source": [
    "import pandas as pd"
   ]
  },
  {
   "cell_type": "code",
   "execution_count": 7,
   "metadata": {},
   "outputs": [
    {
     "name": "stdout",
     "output_type": "stream",
     "text": [
      "  Public Food Key  Classification                      Food Name  \\\n",
      "0         F002258         31302.0   Cardamom seed, dried, ground   \n",
      "1         F002893         31302.0  Chilli (chili), dried, ground   \n",
      "2         F002963         31302.0        Cinnamon, dried, ground   \n",
      "3         F002970         31302.0          Cloves, dried, ground   \n",
      "4         F003190         31302.0  Coriander seed, dried, ground   \n",
      "\n",
      "   Energy with dietary fibre, equated \\n(kJ)  \\\n",
      "0                                       1236   \n",
      "1                                       1280   \n",
      "2                                       1004   \n",
      "3                                       1389   \n",
      "4                                       1344   \n",
      "\n",
      "   Energy, without dietary fibre, equated \\n(kJ)  Moisture (water) \\n(g)  \\\n",
      "0                                           1012                     8.3   \n",
      "1                                           1002                    10.8   \n",
      "2                                            579                    10.6   \n",
      "3                                           1118                     9.9   \n",
      "4                                           1009                     8.9   \n",
      "\n",
      "   Protein \\n(g)  Nitrogen \\n(g)  Fat, total \\n(g)  Ash \\n(g)  ...  \\\n",
      "0           10.8            1.72               6.7        5.8  ...   \n",
      "1           13.4            2.14              14.3       11.8  ...   \n",
      "2            4.0            0.64               1.2        3.6  ...   \n",
      "3            6.0            0.96              13.0        5.6  ...   \n",
      "4           12.4            1.98              17.8        6.0  ...   \n",
      "\n",
      "   Leucine \\n(mg)  Lysine \\n(mg)  Methionine \\n(mg)  Phenylalanine \\n(mg)  \\\n",
      "0             NaN            NaN                NaN                   NaN   \n",
      "1             NaN            NaN                NaN                   NaN   \n",
      "2             NaN            NaN                NaN                   NaN   \n",
      "3             NaN            NaN                NaN                   NaN   \n",
      "4             NaN            NaN                NaN                   NaN   \n",
      "\n",
      "   Proline \\n(mg)  Serine \\n(mg)  Threonine \\n(mg)  Tyrosine \\n(mg)  \\\n",
      "0             NaN            NaN               NaN              NaN   \n",
      "1             NaN            NaN               NaN              NaN   \n",
      "2             NaN            NaN               NaN              NaN   \n",
      "3             NaN            NaN               NaN              NaN   \n",
      "4             NaN            NaN               NaN              NaN   \n",
      "\n",
      "   Tryptophan \\n(mg)  Valine \\n(mg)  \n",
      "0                155            NaN  \n",
      "1                 69            NaN  \n",
      "2                 49            NaN  \n",
      "3                 30            NaN  \n",
      "4                178            NaN  \n",
      "\n",
      "[5 rows x 293 columns]\n"
     ]
    }
   ],
   "source": [
    "df = pd.read_excel(\n",
    "    io=\"./Datasets/Rel_2_Nutrient_file.xlsx\",\n",
    "    sheet_name=\"All solids & liquids per 100g\"\n",
    ")\n",
    "\n",
    "print(df.head())"
   ]
  }
 ],
 "metadata": {
  "kernelspec": {
   "display_name": "comp4702",
   "language": "python",
   "name": "python3"
  },
  "language_info": {
   "codemirror_mode": {
    "name": "ipython",
    "version": 3
   },
   "file_extension": ".py",
   "mimetype": "text/x-python",
   "name": "python",
   "nbconvert_exporter": "python",
   "pygments_lexer": "ipython3",
   "version": "3.11.0"
  },
  "orig_nbformat": 4
 },
 "nbformat": 4,
 "nbformat_minor": 2
}
