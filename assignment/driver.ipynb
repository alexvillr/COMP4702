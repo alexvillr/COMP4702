{
 "cells": [
  {
   "attachments": {},
   "cell_type": "markdown",
   "metadata": {},
   "source": [
    "### Imports"
   ]
  },
  {
   "cell_type": "code",
   "execution_count": 1,
   "metadata": {
    "ExecuteTime": {
     "end_time": "2023-05-16T01:30:53.185856Z",
     "start_time": "2023-05-16T01:30:53.183961Z"
    },
    "notebookRunGroups": {
     "groupValue": "12"
    }
   },
   "outputs": [
    {
     "name": "stdout",
     "output_type": "stream",
     "text": [
      "2.0.1\n",
      "2.0.2\n",
      "MPS Available : True\n",
      "CUDA availabe : False\n",
      "GPU - mps\n"
     ]
    }
   ],
   "source": [
    "import os\n",
    "from collections import Counter\n",
    "from itertools import cycle\n",
    "\n",
    "os.environ[\"KMP_DUPLICATE_LIB_OK\"] = \"TRUE\"\n",
    "\n",
    "\n",
    "import lightning.pytorch as pl\n",
    "import missingno as msno\n",
    "import matplotlib.pyplot as plt\n",
    "import numpy as np\n",
    "import pandas as pd\n",
    "import seaborn as sns\n",
    "import torch\n",
    "import torch.nn.functional as F\n",
    "import torch.optim.lr_scheduler\n",
    "import wandb\n",
    "from imblearn.over_sampling import SMOTE\n",
    "from lightning.pytorch.callbacks import Callback, LearningRateMonitor\n",
    "from lightning.pytorch.callbacks.early_stopping import EarlyStopping\n",
    "from lightning.pytorch.loggers import WandbLogger\n",
    "from pandas import DataFrame\n",
    "from sklearn.calibration import label_binarize\n",
    "from sklearn.decomposition import PCA\n",
    "from sklearn.ensemble import RandomForestClassifier\n",
    "from sklearn.metrics import (\n",
    "    ConfusionMatrixDisplay,\n",
    "    accuracy_score,\n",
    "    classification_report,\n",
    "    confusion_matrix,\n",
    "    precision_recall_curve,\n",
    ")\n",
    "from sklearn.model_selection import train_test_split\n",
    "from sklearn.neighbors import KNeighborsClassifier\n",
    "from sklearn.preprocessing import StandardScaler\n",
    "from torch import nn, utils\n",
    "from torch.utils.data import DataLoader, Dataset\n",
    "\n",
    "print(torch.__version__)\n",
    "print(pl.__version__)\n",
    "device_string = (\n",
    "    \"mps\"\n",
    "    if torch.backends.mps.is_built()\n",
    "    else \"cuda:0\"\n",
    "    if torch.cuda.is_available()\n",
    "    else \"cpu\"\n",
    ")\n",
    "print(f\"MPS Available : {torch.backends.mps.is_built()}\")\n",
    "print(f\"CUDA availabe : {torch.cuda.is_available()}\")\n",
    "DEVICE = torch.device(device_string)\n",
    "print(f\"GPU - {DEVICE}\")\n"
   ]
  },
  {
   "attachments": {},
   "cell_type": "markdown",
   "metadata": {},
   "source": [
    "# Data Preparation"
   ]
  },
  {
   "cell_type": "code",
   "execution_count": 8,
   "metadata": {
    "ExecuteTime": {
     "end_time": "2023-05-16T01:34:22.327214Z",
     "start_time": "2023-05-16T01:34:20.285011Z"
    },
    "notebookRunGroups": {
     "groupValue": "12"
    }
   },
   "outputs": [
    {
     "name": "stdout",
     "output_type": "stream",
     "text": [
      "(1616, 293)\n",
      "291\n"
     ]
    },
    {
     "data": {
      "image/png": "[encoded data removed]",
      "text/plain": [
       "<Figure size 640x480 with 1 Axes>"
      ]
     },
     "metadata": {},
     "output_type": "display_data"
    },
    {
     "name": "stdout",
     "output_type": "stream",
     "text": [
      "#>============================================================<#\n",
      "\tDropping class: 34\t As there is only 4 instance\n",
      "#>============================================================<#\n",
      "At class 31: 32 examples \twhich is Miscellaneous \n",
      "#>============================================================<#\n",
      "\tDropping class: 30\t As there is only 2 instance\n",
      "#>============================================================<#\n",
      "At class 29: 28 examples \twhich is Alcoholic beverages \n",
      "At class 28: 33 examples \twhich is Confectionery and cereal/nut/fruit/seed bars \n",
      "#>============================================================<#\n",
      "\tDropping class: 27\t As there is only 19 instance\n",
      "#>============================================================<#\n",
      "#>============================================================<#\n",
      "\tDropping class: 26\t As there is only 11 instance\n",
      "#>============================================================<#\n",
      "At class 24: 235 examples \twhich is Vegetable products and dishes \n",
      "At class 23: 37 examples \twhich is Savoury sauces and condiments \n",
      "At class 22: 38 examples \twhich is Seed and nut products and dishes \n",
      "At class 20: 29 examples \twhich is Dairy & meat substitutes\n",
      "At class 19: 53 examples \twhich is Milk products and dishes \n",
      "At class 18: 465 examples \twhich is Meat, poultry and game products and dishes \n",
      "At class 16: 124 examples \twhich is Fruit products and dishes \n",
      "At class 14: 34 examples \twhich is Fats and oils \n",
      "At class 13: 102 examples \twhich is Cereal based products and dishes\n",
      "At class 12: 162 examples \twhich is Cereals and cereal products \n",
      "At class 11: 50 examples \twhich is Non-alcoholic beverages\n",
      "#>============================================================<#\n",
      "\tDropping class: 32\t As there is only 1 instance\n",
      "#>============================================================<#\n",
      "At class 25: 25 examples \twhich is Legume and pulse products and dishes \n",
      "#>============================================================<#\n",
      "\tDropping class: 21\t As there is only 6 instance\n",
      "#>============================================================<#\n",
      "#>============================================================<#\n",
      "\tDropping class: 17\t As there is only 11 instance\n",
      "#>============================================================<#\n",
      "At class 15: 115 examples \twhich is Fish and seafood products and dishes \n",
      "Counter({18: 465, 24: 235, 12: 162, 16: 124, 15: 115, 13: 102, 19: 53, 11: 50, 22: 38, 23: 37, 14: 34, 28: 33, 31: 32, 20: 29, 29: 28, 25: 25, 27: 19, 26: 11, 17: 11, 21: 6, 34: 4, 30: 2, 32: 1})\n",
      "Num classes: 16\n",
      "Counter({18: 465, 24: 235, 12: 162, 16: 124, 15: 115, 13: 102, 19: 53, 11: 50, 22: 38, 23: 37, 14: 34, 28: 33, 31: 32, 20: 29, 29: 28, 25: 25})\n",
      "class_seq -> class: {0: 31, 1: 29, 2: 28, 3: 24, 4: 23, 5: 22, 6: 20, 7: 19, 8: 18, 9: 16, 10: 14, 11: 13, 12: 12, 13: 11, 14: 25, 15: 15}\n",
      "class -> class name: {11: 'Non-alcoholic beverages', 12: 'Cereals and cereal products ', 13: 'Cereal based products and dishes', 14: 'Fats and oils ', 15: 'Fish and seafood products and dishes ', 16: 'Fruit products and dishes ', 17: 'Egg products and dishes ', 18: 'Meat, poultry and game products and dishes ', 19: 'Milk products and dishes ', 20: 'Dairy & meat substitutes', 21: 'Soup ', 22: 'Seed and nut products and dishes ', 23: 'Savoury sauces and condiments ', 24: 'Vegetable products and dishes ', 25: 'Legume and pulse products and dishes ', 26: 'Snack foods ', 27: 'Sugar products and dishes ', 28: 'Confectionery and cereal/nut/fruit/seed bars ', 29: 'Alcoholic beverages ', 30: 'Special dietary foods ', 31: 'Miscellaneous ', 32: 'Infant formulae and foods ', 33: 'Dietary supplements', 34: 'Reptiles, amphibia and insects', 111: 'Tea ', 112: 'Coffee and coffee substitutes ', 113: 'Fruit and vegetable juices, and drinks ', 114: 'Cordials', 115: 'Soft drinks, and flavoured mineral waters', 116: 'Electrolyte, energy and fortified drinks', 117: 'Waters, municipal and bottled, unflavoured', 118: 'Other beverage flavourings and prepared beverages', 121: 'Flours and other cereal grains and starches ', 122: 'Regular breads, and bread rolls (plain/unfilled/untopped varieties) ', 123: 'English-style muffins, flat breads, and savoury and sweet breads ', 124: 'Pasta and pasta products (without sauce)', 125: 'Breakfast cereals, ready to eat', 126: 'Breakfast cereals, hot porridge style', 131: 'Sweet biscuits', 132: 'Savoury biscuits', 133: 'Cakes, muffins, scones, cake-type desserts ', 134: 'Pastries ', 135: 'Mixed dishes where cereal is the major ingredient ', 136: 'Batter-based products ', 141: 'Butters', 142: 'Dairy blends', 143: 'Margarine and table spreads', 144: 'Plant oils', 145: 'Other fats ', 146: 'Unspecified fats ', 151: 'Fin fish (excluding commercially sterile) ', 152: 'Crustacea and molluscs (excluding commercially sterile) ', 153: 'Other sea and freshwater foods ', 154: 'Packed (commercially sterile) fish and seafood ', 155: 'Fish and seafood products (homemade and takeaway)', 156: 'Mixed dishes with fish or seafood as the major component ', 157: 'Wild caught fish and seafood (NATSINPAS)', 160: 'Wild harvested fruits (NATSINPAS)', 161: 'Pome fruit ', 162: 'Berry fruit ', 163: 'Citrus fruit ', 164: 'Stone fruit ', 165: 'Tropical and subtropical fruit ', 166: 'Other fruit ', 167: 'Mixtures of two or more groups of fruit ', 168: 'Dried fruit, preserved fruit ', 169: 'Mixed dishes where fruit is the major component ', 171: 'Eggs ', 172: 'Dishes where egg is the major ingredient ', 174: 'Wild harvested eggs (NATSINPAS)', 180: 'Wild harvested meat, and meat dishes (NATSINPAS)', 181: 'Beef, sheep and pork, unprocessed', 182: 'Mammalian game meats ', 183: 'Poultry and feathered game ', 184: 'Organ meats and offal, products and dishes ', 185: 'Sausages, frankfurts and saveloys ', 186: 'Processed meat ', 187: 'Mixed dishes where beef, sheep, pork or mammalian game is the major component', 188: 'Mixed dishes where sausage, bacon, ham or other processed meat is the major component ', 189: 'Mixed dishes where poultry or feathered game is the major component ', 191: 'Dairy milk (cow, sheep and goat)', 192: 'Yoghurt ', 193: 'Cream ', 194: 'Cheese ', 195: 'Frozen milk products ', 196: 'Custards', 197: 'Other dishes where milk or a milk product is the major component ', 198: 'Flavoured milks  and milkshakes'}\n",
      "class_seq -> class name: {0: 'Miscellaneous ', 1: 'Alcoholic beverages ', 2: 'Confectionery and cereal/nut/fruit/seed bars ', 3: 'Vegetable products and dishes ', 4: 'Savoury sauces and condiments ', 5: 'Seed and nut products and dishes ', 6: 'Dairy & meat substitutes', 7: 'Milk products and dishes ', 8: 'Meat, poultry and game products and dishes ', 9: 'Fruit products and dishes ', 10: 'Fats and oils ', 11: 'Cereal based products and dishes', 12: 'Cereals and cereal products ', 13: 'Non-alcoholic beverages', 14: 'Legume and pulse products and dishes ', 15: 'Fish and seafood products and dishes '}\n",
      "Dataframe head:          PC1       PC2       PC3       PC4       PC5        PC6       PC7   \n",
      "4   3.282995  5.601409  3.554887  8.669953  2.321670 -13.335738  1.182325  \\\n",
      "7  -3.285878 -2.057413 -0.479537  1.243635  0.274155   0.514735 -0.503244   \n",
      "8   1.288995  3.696654 -0.277807  0.387040 -0.757445  -0.559470 -0.068468   \n",
      "9   2.187856  5.252434  0.021525 -0.377805 -1.013170  -0.951578 -0.072016   \n",
      "10 -3.140359  5.654179  1.738747 -5.276300  1.417079   2.014330  2.057032   \n",
      "\n",
      "         PC8        PC9      PC10  ...      PC23      PC24      PC25   \n",
      "4  -4.417519  12.861155  5.912837  ...  1.024563  0.464239  0.954160  \\\n",
      "7  -0.153767  -0.385241 -0.488469  ... -0.237345 -0.130694  0.045068   \n",
      "8  -0.065703  -0.333469 -0.374102  ... -0.956775 -0.738020 -0.423492   \n",
      "9  -0.674310   0.365545 -1.540680  ... -1.049163 -1.059186 -0.192732   \n",
      "10 -0.389259   3.098325 -1.277217  ... -0.179269 -0.159235 -0.136083   \n",
      "\n",
      "        PC26      PC27      PC28      PC29      PC30  Classification   \n",
      "4   0.853642 -1.159404 -1.327141 -1.601604 -3.006243              31  \\\n",
      "7  -0.219194  0.082997 -0.071384  0.078707  0.088221              29   \n",
      "8   0.354099 -1.030105 -0.610036  0.294758 -0.448490              28   \n",
      "9   0.206431 -0.662287 -0.118815 -0.076202 -0.513534              28   \n",
      "10 -0.060765 -0.022911 -0.135542  0.191582  0.077233              28   \n",
      "\n",
      "    Classification_seq  \n",
      "4                    0  \n",
      "7                    1  \n",
      "8                    2  \n",
      "9                    2  \n",
      "10                   2  \n",
      "\n",
      "[5 rows x 32 columns]\n"
     ]
    }
   ],
   "source": [
    "df: DataFrame = pd.read_excel(\n",
    "    io=\"./Datasets/Rel_2_Nutrient_file.xlsx\",\n",
    "    sheet_name=\"All solids &amp; liquids per 100g\",\n",
    ")\n",
    "print(df.shape)\n",
    "print(len(df.Classification.copy().astype(str).unique()))\n",
    "df[\"Classification\"] = df[\"Classification\"].astype(str)\n",
    "df[\"Classification\"] = pd.to_numeric(\n",
    "    df[\"Classification\"].str.extract(r\"(\\d{2})\")[0], errors=\"coerce\"\n",
    ")\n",
    "\n",
    "new_df: DataFrame = (\n",
    "    df.filter(regex=\"^(?!.*\\(%T\\)).*\")\n",
    "    .drop(\n",
    "        labels=[\n",
    "            \"Public Food Key\",\n",
    "            \"Food Name\",\n",
    "        ],\n",
    "        axis=1,\n",
    "    )\n",
    "    .dropna(thresh=(int(len(df) * 0.95)), axis=\"columns\")\n",
    "    .dropna()\n",
    ")\n",
    "\n",
    "classifications_df: DataFrame = pd.read_excel(\n",
    "    io=\"./Datasets/Australian_Health_Survey_Classification_System.xlsx\"\n",
    ")\n",
    "classifications_df = classifications_df[\n",
    "    (classifications_df[\"Food Group Code\"] // 100).between(0, 1)\n",
    "]\n",
    "\n",
    "classifications = pd.Series(\n",
    "    classifications_df[\"Food Group and Sub-Group Name\"],\n",
    "    index=classifications_df[\"Food Group Code\"].values,\n",
    ").to_dict()\n",
    "\n",
    "classifications = dict(\n",
    "    zip(\n",
    "        classifications_df[\"Food Group Code\"],\n",
    "        classifications_df[\"Food Group and Sub-Group Name\"],\n",
    "    )\n",
    ")\n",
    "\n",
    "use_pca: bool = True\n",
    "\n",
    "features = new_df.drop(\n",
    "    \"Classification\", axis=1\n",
    ").copy()  # Drop the target column to get the features\n",
    "target = new_df[\"Classification\"].copy()  # Save the target column separately\n",
    "\n",
    "if use_pca:\n",
    "    scaler = StandardScaler()\n",
    "    scaled_features = scaler.fit_transform(features)\n",
    "\n",
    "    pca = PCA(n_components=30)  # Choose the desired number of components\n",
    "    pca_result = pca.fit_transform(scaled_features)\n",
    "\n",
    "    pca_df = pd.DataFrame(\n",
    "        data=pca_result,\n",
    "        columns=[\n",
    "            \"PC1\",\n",
    "            \"PC2\",\n",
    "            \"PC3\",\n",
    "            \"PC4\",\n",
    "            \"PC5\",\n",
    "            \"PC6\",\n",
    "            \"PC7\",\n",
    "            \"PC8\",\n",
    "            \"PC9\",\n",
    "            \"PC10\",\n",
    "            \"PC11\",\n",
    "            \"PC12\",\n",
    "            \"PC13\",\n",
    "            \"PC14\",\n",
    "            \"PC15\",\n",
    "            \"PC16\",\n",
    "            \"PC17\",\n",
    "            \"PC18\",\n",
    "            \"PC19\",\n",
    "            \"PC20\",\n",
    "            \"PC21\",\n",
    "            \"PC22\",\n",
    "            \"PC23\",\n",
    "            \"PC24\",\n",
    "            \"PC25\",\n",
    "            \"PC26\",\n",
    "            \"PC27\",\n",
    "            \"PC28\",\n",
    "            \"PC29\",\n",
    "            \"PC30\",\n",
    "            # \"PC31\",\n",
    "            # \"PC32\",\n",
    "            # \"PC33\",\n",
    "            # \"PC34\",\n",
    "            # \"PC35\",\n",
    "            # \"PC36\",\n",
    "            # \"PC37\",\n",
    "            # \"PC38\",\n",
    "            # \"PC39\",\n",
    "            # \"PC40\",\n",
    "            # \"PC41\",\n",
    "            # \"PC42\",\n",
    "            # \"PC43\",\n",
    "            # \"PC44\",\n",
    "            # \"PC45\",\n",
    "            # \"PC46\",\n",
    "            # \"PC47\",\n",
    "            # \"PC48\",\n",
    "            # \"PC49\",\n",
    "            # \"PC50\",\n",
    "            # \"PC51\",\n",
    "            # \"PC52\",\n",
    "            # \"PC53\",\n",
    "            # \"PC54\",\n",
    "            # \"PC55\",\n",
    "            # \"PC56\",\n",
    "            # \"PC57\",\n",
    "            # \"PC58\",\n",
    "            # \"PC59\",\n",
    "            # \"PC60\",\n",
    "        ],\n",
    "    )  # Adjust column names as needed\n",
    "\n",
    "    final_df = pd.concat([pca_df, target], axis=1)\n",
    "\n",
    "    cumulative_variance = np.cumsum(pca.explained_variance_ratio_)\n",
    "\n",
    "    import matplotlib.pyplot as plt\n",
    "\n",
    "    plt.plot(range(1, len(cumulative_variance) + 1), cumulative_variance)\n",
    "    plt.xlabel(\"Number of Components\")\n",
    "    plt.ylabel(\"Cumulative Explained Variance Ratio\")\n",
    "    plt.show()\n",
    "\n",
    "    new_df = final_df.copy()\n",
    "else:\n",
    "    final_df = pd.concat([features, target], axis=1)\n",
    "\n",
    "    new_df = final_df.copy()\n",
    "\n",
    "\n",
    "class_list = new_df.Classification.tolist()\n",
    "\n",
    "class_counts = Counter(new_df[\"Classification\"].copy())\n",
    "for element, count in class_counts.items():\n",
    "    if count <= 20:\n",
    "        new_df = new_df.drop(new_df[new_df[\"Classification\"] == element].index)\n",
    "        print(\"#>============================================================<#\")\n",
    "        print(f\"\\tDropping class: {element}\\t As there is only {count} instance\")\n",
    "        print(\"#>============================================================<#\")\n",
    "    else:\n",
    "        print(\n",
    "            f\"At class {element}: {count} examples \\twhich is {classifications.get(element)}\"\n",
    "        )\n",
    "\n",
    "print(class_counts)\n",
    "\n",
    "n_classes: int = len(pd.unique(new_df.Classification))\n",
    "\n",
    "print(f\"Num classes: {n_classes}\")\n",
    "print(Counter(new_df[\"Classification\"].copy()))\n",
    "\n",
    "# Create a new column to store the sequential numbers\n",
    "new_df[\"Classification_seq\"], classifications_seq = pd.factorize(\n",
    "    new_df[\"Classification\"]\n",
    ")\n",
    "\n",
    "# Get unique classifications and their corresponding sequential numbers\n",
    "# classifications_unique = np.unique(new_df[\"Classification\"])\n",
    "# classifications_seq_unique = np.unique(new_df[\"Classification_seq\"])\n",
    "\n",
    "# Create a dictionary to map the original class to a string representation\n",
    "class_dict = dict(zip(new_df[\"Classification_seq\"], new_df[\"Classification\"]))\n",
    "mapped_dict = {\n",
    "    key: classifications.get(intermediate_value)\n",
    "    for key, intermediate_value in class_dict.items()\n",
    "}\n",
    "\n",
    "# Display the class dictionary\n",
    "print(f\"class_seq -> class: {class_dict}\")\n",
    "print(f\"class -> class name: {classifications}\")\n",
    "print(f\"class_seq -> class name: {mapped_dict}\")\n",
    "\n",
    "\n",
    "print(f\"Dataframe head: {new_df.head()}\")\n"
   ]
  },
  {
   "cell_type": "code",
   "execution_count": 3,
   "metadata": {
    "ExecuteTime": {
     "end_time": "2023-05-16T01:34:25.236048Z",
     "start_time": "2023-05-16T01:34:24.001430Z"
    },
    "notebookRunGroups": {
     "groupValue": "12"
    }
   },
   "outputs": [
    {
     "data": {
      "image/png": "[encoded data removed]",
      "text/plain": [
       "<Figure size 1100x800 with 2 Axes>"
      ]
     },
     "metadata": {},
     "output_type": "display_data"
    }
   ],
   "source": [
    "corr = new_df.corr(min_periods=0).abs()\n",
    "plt.figure(figsize=(11, 8))\n",
    "sns.heatmap(corr, cmap=\"GnBu\", annot=False)\n",
    "plt.show()\n",
    "\n",
    "\n",
    "new_df.Classification = new_df.Classification.map(classifications)\n"
   ]
  },
  {
   "cell_type": "code",
   "execution_count": 4,
   "metadata": {
    "notebookRunGroups": {
     "groupValue": "12"
    }
   },
   "outputs": [
    {
     "name": "stdout",
     "output_type": "stream",
     "text": [
      "Train set shapes: (4464, 30) (4464,)\n",
      "Test set shapes: (2976, 30) (2976,)\n",
      "           PC1       PC2       PC3       PC4       PC5       PC6       PC7   \n",
      "2957 -2.312606 -1.603936  0.750871  1.980152  0.532394 -1.396541 -0.066129  \\\n",
      "632   3.150526 -1.972758 -1.063796 -0.574820 -2.025170  1.233069  0.728715   \n",
      "3894 -2.394263 -0.257627 -1.003599  1.189735  0.144265  0.725056 -0.306675   \n",
      "7312  1.500587 -2.308453 -0.634933 -0.500121 -0.507739 -0.099513  0.171052   \n",
      "6892  2.374641  2.018408  3.051504 -0.848012 -1.017199 -3.979634  0.299066   \n",
      "\n",
      "           PC8       PC9      PC10  ...      PC21      PC22      PC23   \n",
      "2957 -0.426628  0.568623  0.079142  ... -0.416671  0.091941  0.214725  \\\n",
      "632   0.024092  1.226224  0.363437  ...  0.866559 -0.326311 -0.255208   \n",
      "3894  0.094043 -0.438096  0.259166  ...  0.033716  0.534701 -0.345467   \n",
      "7312  0.067415  0.199326 -0.431499  ... -0.695150  0.199795  0.011983   \n",
      "6892 -1.413774 -1.026016  0.284059  ...  3.811291  0.217172  2.386864   \n",
      "\n",
      "          PC24      PC25      PC26      PC27      PC28      PC29      PC30  \n",
      "2957 -0.219371 -0.222929  0.083142  0.031107  0.293912  0.331066 -0.036569  \n",
      "632  -0.862135 -0.609329  0.063194  0.648183 -0.031359  0.766524 -0.089382  \n",
      "3894 -0.614201 -0.086209 -0.165173 -0.262880 -0.309263  0.371453  0.392322  \n",
      "7312  0.288655  0.332749 -0.142581  0.030314 -0.071872 -0.468947  0.037826  \n",
      "6892  1.160748  0.211316 -0.978630 -1.370548  0.167215  0.620575  0.028912  \n",
      "\n",
      "[5 rows x 30 columns]\n",
      "==================================================\n",
      "2957     3\n",
      "632      8\n",
      "3894     5\n",
      "7312    15\n",
      "6892    14\n",
      "        ..\n",
      "2045     1\n",
      "2312     1\n",
      "7438    15\n",
      "4592     7\n",
      "5376    10\n",
      "Name: Classification_seq, Length: 4464, dtype: int64\n"
     ]
    }
   ],
   "source": [
    "smote_all: bool = True\n",
    "smote = SMOTE(random_state=42, k_neighbors=5)\n",
    "# print(new_df.Classification)\n",
    "train, test = train_test_split(\n",
    "    new_df,\n",
    "    test_size=0.3,\n",
    "    random_state=42,\n",
    "    shuffle=True,\n",
    "    stratify=new_df.Classification,\n",
    ")\n",
    "\n",
    "X_train = train.drop(columns=[\"Classification\", \"Classification_seq\"])\n",
    "y_train = train[\"Classification\"]\n",
    "X_train, y_train = smote.fit_resample(X_train, y_train)\n",
    "X_test = test.drop(columns=[\"Classification\", \"Classification_seq\"])\n",
    "y_test = test[\"Classification\"]\n",
    "\n",
    "if smote_all:\n",
    "    # Split the original dataset into features and labels\n",
    "    X = new_df.drop(columns=[\"Classification\", \"Classification_seq\"])\n",
    "    y = new_df[\"Classification_seq\"]\n",
    "\n",
    "    # Apply SMOTE to the entire dataset\n",
    "    X_resampled, y_resampled = smote.fit_resample(X, y)\n",
    "\n",
    "    # Split the resampled dataset into train and test sets\n",
    "    MLP_X_train, MLP_X_test, MLP_y_train, MLP_y_test = train_test_split(\n",
    "        X_resampled,\n",
    "        y_resampled,\n",
    "        test_size=0.4,\n",
    "        random_state=42,\n",
    "        shuffle=True,\n",
    "        stratify=y_resampled,\n",
    "    )\n",
    "else:\n",
    "    MLP_X_train = X_train\n",
    "    MLP_y_train = train[\"Classification_seq\"]\n",
    "\n",
    "    MLP_X_test = X_test\n",
    "    MLP_y_test = test[\"Classification_seq\"]\n",
    "\n",
    "\n",
    "# Print the shapes of the train and test sets\n",
    "print(\"Train set shapes:\", MLP_X_train.shape, MLP_y_train.shape)\n",
    "print(\"Test set shapes:\", MLP_X_test.shape, MLP_y_test.shape)\n",
    "\n",
    "print(MLP_X_train.head())\n",
    "print(\"==================================================\")\n",
    "print(MLP_y_train)\n"
   ]
  },
  {
   "cell_type": "code",
   "execution_count": 5,
   "metadata": {
    "notebookRunGroups": {
     "groupValue": "12"
    }
   },
   "outputs": [],
   "source": [
    "scaler = StandardScaler()\n",
    "X_train = scaler.fit_transform(X_train)\n",
    "X_test = scaler.transform(X_test)\n",
    "\n",
    "MLP_scaler = StandardScaler()\n",
    "MLP_X_train = scaler.fit_transform(MLP_X_train)\n",
    "MLP_X_test = scaler.transform(MLP_X_test)\n"
   ]
  },
  {
   "attachments": {},
   "cell_type": "markdown",
   "metadata": {},
   "source": [
    "# KNN classifier"
   ]
  },
  {
   "cell_type": "code",
   "execution_count": null,
   "metadata": {
    "notebookRunGroups": {
     "groupValue": "2"
    }
   },
   "outputs": [],
   "source": [
    "steps = 5\n",
    "best_acc = -1\n",
    "best_k = -1\n",
    "best_loss = -1\n",
    "best_y_pred = -1\n",
    "best_y_proba = -1\n",
    "best_model = None\n",
    "\n",
    "\n",
    "for i in range(steps):\n",
    "    # Create the k-NN classifier with k=3\n",
    "    k = 2 ** (i + 1)\n",
    "    knn = KNeighborsClassifier(n_neighbors=k)\n",
    "\n",
    "    # Fit the classifier to the training data\n",
    "    knn.fit(X_train, y_train)\n",
    "    # Make predictions on the training set and calculate the training loss\n",
    "    y_train_pred = knn.predict(X_train)\n",
    "    train_acc = accuracy_score(y_train, y_train_pred)\n",
    "    train_loss = 1 - train_acc\n",
    "\n",
    "    # Make predictions on the test set and calculate the test loss\n",
    "    y_test_pred = knn.predict(X_test)\n",
    "    y_test_pred_proba = knn.predict_proba(X_test)\n",
    "    test_acc = accuracy_score(y_test, y_test_pred)\n",
    "    test_loss = 1 - test_acc\n",
    "\n",
    "    print(\n",
    "        f\">===========================\\t{k} nearest neighbours\\t===========================<\"\n",
    "    )\n",
    "    print(f\"Training loss:\\t{train_loss:.4f}\\tTraining accuracy:\\t{train_acc:.4f}\")\n",
    "    print(f\"Test loss:\\t{test_loss:.4f}\\tTest accuracy:\\t\\t{test_acc:.4f}\")\n",
    "\n",
    "    if test_acc > best_acc:\n",
    "        best_acc = test_acc\n",
    "        best_k = k\n",
    "        best_loss = test_loss\n",
    "        best_y_pred = y_test_pred\n",
    "        best_y_proba = y_test_pred_proba\n",
    "        best_model = knn\n",
    "\n",
    "print(f\"\\nBest model found with {best_k} Nearest neighbours\\n\")\n",
    "knn_report = classification_report(y_test, best_y_pred)\n",
    "knn_df_report = pd.DataFrame(\n",
    "    classification_report(y_test, best_y_pred, output_dict=True)\n",
    ")\n",
    "report = classification_report(y_test, best_y_pred)\n",
    "\n",
    "print(report)\n",
    "\n",
    "cm = confusion_matrix(best_y_pred, y_test, labels=best_model.classes_)\n",
    "\n",
    "fig, ax = plt.subplots()\n",
    "ax.set_title(f\"Best accuracy of {best_acc:.4f} found with a depth of {best_k}\")\n",
    "\n",
    "disp: ConfusionMatrixDisplay = ConfusionMatrixDisplay(\n",
    "    confusion_matrix=cm,\n",
    "    display_labels=best_model.classes_,\n",
    ").plot(xticks_rotation=\"vertical\", ax=ax)\n"
   ]
  },
  {
   "cell_type": "code",
   "execution_count": null,
   "metadata": {
    "notebookRunGroups": {
     "groupValue": "2"
    }
   },
   "outputs": [],
   "source": [
    "# Binarize the true labels\n",
    "binarized_labels = label_binarize(y_test, classes=list(set(y_test)))\n",
    "\n",
    "# Calculate precision and recall for each class\n",
    "precision = dict()\n",
    "recall = dict()\n",
    "n_classes = len(set(y_test))\n",
    "for i in range(n_classes):\n",
    "    precision[i], recall[i], _ = precision_recall_curve(\n",
    "        binarized_labels[:, i], [proba[i] for proba in best_y_proba]\n",
    "    )\n",
    "\n",
    "# Define the number of subplots and the subplot layout\n",
    "n_subplots = 3\n",
    "n_rows = (n_classes + n_subplots - 1) // n_subplots\n",
    "n_cols = min(n_subplots, n_classes)\n",
    "\n",
    "# Create subplots for precision-recall curves\n",
    "fig, axs = plt.subplots(n_rows, n_cols, figsize=(15, 40))\n",
    "axs = axs.flatten()\n",
    "\n",
    "# Plot the precision-recall curves for each class\n",
    "colors = cycle([\"navy\", \"turquoise\", \"darkorange\", \"green\"])\n",
    "line_styles = cycle([\"-\", \"--\"])\n",
    "for i, ax in zip(range(n_classes), axs):\n",
    "    color = next(colors)\n",
    "    linestyle = next(line_styles)\n",
    "    ax.plot(recall[i], precision[i], color=color, linestyle=linestyle, lw=2)\n",
    "    ax.set_xlabel(\"Recall\")\n",
    "    ax.set_ylabel(\"Precision\")\n",
    "    ax.set_title(f\"{best_model.classes_[i]}\")\n",
    "\n",
    "# Remove empty subplots if needed\n",
    "if n_classes < len(axs):\n",
    "    for j in range(n_classes, len(axs)):\n",
    "        fig.delaxes(axs[j])\n",
    "\n",
    "# Adjust the spacing between subplots\n",
    "fig.tight_layout()\n",
    "\n",
    "plt.show()\n"
   ]
  },
  {
   "attachments": {},
   "cell_type": "markdown",
   "metadata": {},
   "source": [
    "# Random Forest Classifier"
   ]
  },
  {
   "cell_type": "code",
   "execution_count": null,
   "metadata": {
    "notebookRunGroups": {
     "groupValue": "2"
    }
   },
   "outputs": [],
   "source": [
    "steps: int = 5\n",
    "best_acc: int = -1\n",
    "acc_diff: int = -1\n",
    "best_depth: int = -1\n",
    "best_cm = None\n",
    "best_model = None\n",
    "\n",
    "for i in range(steps):\n",
    "    depth = 2 ** (i + 1)\n",
    "    clf = RandomForestClassifier(max_depth=depth, random_state=42)\n",
    "    clf.fit(X_train, y_train)\n",
    "\n",
    "    y_train_pred = clf.predict(X_train)\n",
    "    train_acc = accuracy_score(y_train, y_train_pred)\n",
    "    train_loss = 1 - train_acc\n",
    "\n",
    "    # Make predictions on the test set and calculate the test loss\n",
    "    y_test_pred = clf.predict(X_test)\n",
    "    test_acc = accuracy_score(y_test, y_test_pred)\n",
    "    test_loss = 1 - test_acc\n",
    "\n",
    "    print(\n",
    "        f\">===========================\\tdepth of {depth}\\t===========================<\"\n",
    "    )\n",
    "    print(f\"Training loss:\\t{train_loss:.4f}\\tTraining accuracy:\\t{train_acc:.4f}\")\n",
    "    print(f\"Test loss:\\t{test_loss:.4f}\\tTest accuracy:\\t\\t{test_acc:.4f}\")\n",
    "\n",
    "    if test_acc > best_acc:\n",
    "        best_acc = test_acc\n",
    "        best_depth = depth\n",
    "        best_model = clf\n",
    "        best_predict = y_test_pred\n",
    "        best_predict_proba = clf.predict_proba(X_test)\n",
    "        # Plot the decision regions and training/test data points\n",
    "        best_cm = confusion_matrix(y_test_pred, y_test, labels=clf.classes_)\n",
    "\n",
    "fig, ax = plt.subplots()\n",
    "ax.set_title(f\"\\nBest accuracy of {best_acc:.4f} found with a depth of {best_depth}\\n\")\n",
    "\n",
    "disp: ConfusionMatrixDisplay = ConfusionMatrixDisplay(\n",
    "    confusion_matrix=best_cm,\n",
    "    display_labels=clf.classes_,\n",
    ").plot(xticks_rotation=\"vertical\", ax=ax)\n",
    "\n",
    "report = classification_report(y_test, y_test_pred)\n",
    "df_report = pd.DataFrame(classification_report(y_test, y_test_pred, output_dict=True))\n",
    "\n",
    "print(f\"Best accuracy of {best_acc:.4f} found with a depth of {best_depth}\")\n",
    "print(report)\n"
   ]
  },
  {
   "cell_type": "code",
   "execution_count": null,
   "metadata": {
    "notebookRunGroups": {
     "groupValue": "2"
    }
   },
   "outputs": [],
   "source": [
    "# Binarize the true labels\n",
    "binarized_labels = label_binarize(y_test, classes=list(set(y_test)))\n",
    "\n",
    "# Calculate precision and recall for each class\n",
    "precision = dict()\n",
    "recall = dict()\n",
    "n_classes = len(set(y_test))\n",
    "for i in range(n_classes):\n",
    "    precision[i], recall[i], _ = precision_recall_curve(\n",
    "        binarized_labels[:, i], [proba[i] for proba in best_predict_proba]\n",
    "    )\n",
    "\n",
    "# Define the number of subplots and the subplot layout\n",
    "n_subplots = 3\n",
    "n_rows = (n_classes + n_subplots - 1) // n_subplots\n",
    "n_cols = min(n_subplots, n_classes)\n",
    "\n",
    "# Create subplots for precision-recall curves\n",
    "fig, axs = plt.subplots(n_rows, n_cols, figsize=(15, 40))\n",
    "axs = axs.flatten()\n",
    "\n",
    "# Plot the precision-recall curves for each class\n",
    "colors = cycle([\"navy\", \"turquoise\", \"darkorange\", \"green\"])\n",
    "line_styles = cycle([\"-\", \"--\"])\n",
    "for i, ax in zip(range(n_classes), axs):\n",
    "    color = next(colors)\n",
    "    linestyle = next(line_styles)\n",
    "    ax.plot(recall[i], precision[i], color=color, linestyle=linestyle, lw=2)\n",
    "    ax.set_xlabel(\"Recall\")\n",
    "    ax.set_ylabel(\"Precision\")\n",
    "    ax.set_title(f\"{best_model.classes_[i]}\")\n",
    "\n",
    "# Remove empty subplots if needed\n",
    "if n_classes < len(axs):\n",
    "    for j in range(n_classes, len(axs)):\n",
    "        fig.delaxes(axs[j])\n",
    "\n",
    "# Adjust the spacing between subplots\n",
    "fig.tight_layout()\n",
    "\n",
    "plt.show()\n"
   ]
  },
  {
   "attachments": {},
   "cell_type": "markdown",
   "metadata": {},
   "source": [
    "# CNN"
   ]
  },
  {
   "cell_type": "code",
   "execution_count": 6,
   "metadata": {
    "notebookRunGroups": {
     "groupValue": "1"
    }
   },
   "outputs": [],
   "source": [
    "class myTrainDataSet(Dataset):\n",
    "    def __init__(self, x_train_df: DataFrame, y_train_df):\n",
    "        self.X_train = torch.tensor(x_train_df, dtype=torch.float32)\n",
    "        self.y_train = torch.tensor(y_train_df.values, dtype=torch.long)\n",
    "\n",
    "    def __len__(self) -> int:\n",
    "        return len(self.y_train)\n",
    "\n",
    "    def __getitem__(self, idx):\n",
    "        return self.X_train[idx], self.y_train[idx]\n",
    "\n",
    "\n",
    "class myTestDataSet(Dataset):\n",
    "    def __init__(self, x_test_df: DataFrame, y_test_df: DataFrame):\n",
    "        self.X_test = torch.tensor(x_test_df, dtype=torch.float32)\n",
    "        self.y_test = torch.tensor(y_test_df.values, dtype=torch.long)\n",
    "\n",
    "    def __len__(self) -> int:\n",
    "        return len(self.y_test)\n",
    "\n",
    "    def __getitem__(self, idx):\n",
    "        return self.X_test[idx], self.y_test[idx]\n"
   ]
  },
  {
   "cell_type": "code",
   "execution_count": 7,
   "metadata": {
    "notebookRunGroups": {
     "groupValue": "1"
    }
   },
   "outputs": [],
   "source": [
    "class CNNClassifier(pl.LightningModule):\n",
    "    def __init__(\n",
    "        self,\n",
    "        input_size,\n",
    "        hidden_size,\n",
    "        num_classes,\n",
    "        lr,\n",
    "        dropout_rate=0.5,\n",
    "    ):\n",
    "        super(CNNClassifier, self).__init__()\n",
    "\n",
    "        # Calculate the number of channels for the first convolutional layer\n",
    "        conv1_channels = max(1, hidden_size // 8)\n",
    "\n",
    "        self.conv1 = nn.Conv1d(\n",
    "            in_channels=1,\n",
    "            out_channels=conv1_channels,\n",
    "            kernel_size=2,\n",
    "            stride=2,\n",
    "        )\n",
    "\n",
    "        # Calculate the number of channels for the second convolutional layer\n",
    "        conv2_channels = max(1, hidden_size // 4)\n",
    "\n",
    "        self.conv2 = nn.Conv1d(\n",
    "            in_channels=conv1_channels,\n",
    "            out_channels=conv2_channels,\n",
    "            kernel_size=2,\n",
    "            stride=2,\n",
    "        )\n",
    "\n",
    "        # Calculate the number of channels for the second convolutional layer\n",
    "        conv3_channels = max(1, hidden_size // 2)\n",
    "\n",
    "        self.conv3 = nn.Conv1d(\n",
    "            in_channels=conv2_channels,\n",
    "            out_channels=conv3_channels,\n",
    "            kernel_size=2,\n",
    "            stride=2,\n",
    "        )\n",
    "\n",
    "        self.pool = nn.AdaptiveMaxPool1d(output_size=1)\n",
    "\n",
    "        self.dropout = nn.Dropout(dropout_rate)\n",
    "\n",
    "        self.batchnorm1 = nn.BatchNorm1d(conv1_channels)\n",
    "        self.batchnorm2 = nn.BatchNorm1d(conv2_channels)\n",
    "        self.batchnorm3 = nn.BatchNorm1d(conv3_channels)\n",
    "\n",
    "        self.fc1 = nn.Linear(conv3_channels, conv1_channels)\n",
    "        self.fc2 = nn.Linear(conv1_channels, num_classes)\n",
    "\n",
    "        self.lossfn = nn.CrossEntropyLoss()\n",
    "\n",
    "        # Initialize weights\n",
    "        nn.init.xavier_uniform_(self.fc1.weight)\n",
    "        nn.init.xavier_uniform_(self.fc2.weight)\n",
    "\n",
    "        self.learning_rate = lr\n",
    "\n",
    "    def forward(self, x):\n",
    "        x = x.unsqueeze(1)  # Add a channel dimension for 1D convolution\n",
    "\n",
    "        x = F.relu(self.conv1(x))\n",
    "        x = self.pool(x)\n",
    "        x = self.batchnorm1(x)\n",
    "        x = self.dropout(x)\n",
    "\n",
    "        if x.shape[-1] < 2:\n",
    "            # Handle case where input size is smaller than the kernel size\n",
    "            x = x.expand(x.shape[0], x.shape[1], 2)\n",
    "\n",
    "        x = F.relu(self.conv2(x))\n",
    "        x = self.pool(x)\n",
    "        x = self.batchnorm2(x)\n",
    "        x = self.dropout(x)\n",
    "\n",
    "        if x.shape[-1] < 2:\n",
    "            # Handle case where input size is smaller than the kernel size\n",
    "            x = x.expand(x.shape[0], x.shape[1], 2)\n",
    "\n",
    "        x = F.relu(self.conv3(x))\n",
    "        x = self.pool(x)\n",
    "        x = self.batchnorm3(x)\n",
    "        x = self.dropout(x)\n",
    "\n",
    "        x = x.view(x.size(0), -1)  # Flatten the tensor\n",
    "\n",
    "        x = F.relu(self.fc1(x))\n",
    "        x = self.fc2(x)\n",
    "\n",
    "        return x\n",
    "\n",
    "    def training_step(self, batch, batch_idx):\n",
    "        x, y = batch\n",
    "\n",
    "        # Forward pass\n",
    "        y_hat = self(x)\n",
    "\n",
    "        # Calculate loss\n",
    "        loss = self.lossfn(y_hat, y)\n",
    "\n",
    "        # Log accuracy and loss (optional)\n",
    "        self.log(\"train_loss\", loss, prog_bar=True)\n",
    "\n",
    "        return loss\n",
    "\n",
    "    def validation_step(self, batch, batch_idx):\n",
    "        x, y = batch\n",
    "\n",
    "        y_hat = self(x)\n",
    "        loss = self.lossfn(y_hat, y)\n",
    "\n",
    "        _, predicted = torch.max(y_hat, dim=1)\n",
    "\n",
    "        # Calculate accuracy\n",
    "        accuracy = torch.sum(predicted == y).item() / len(y)\n",
    "        self.log(\"val_acc\", accuracy, prog_bar=True, on_epoch=True)\n",
    "        self.log(\n",
    "            \"val_loss\", loss, on_step=True, on_epoch=True, prog_bar=True, logger=True\n",
    "        )\n",
    "\n",
    "    def test_step(self, batch, batch_idx):\n",
    "        x, y = batch\n",
    "\n",
    "        y_hat = self(x)\n",
    "        loss = self.lossfn(y_hat, y)\n",
    "        self.log(\n",
    "            \"test_loss\",\n",
    "            loss,\n",
    "            on_step=True,\n",
    "            on_epoch=True,\n",
    "            prog_bar=True,\n",
    "            logger=True,\n",
    "        )\n",
    "\n",
    "        _, predicted_labels = torch.max(y_hat, 1)\n",
    "        accuracy = torch.sum(predicted_labels == y).item() / len(y)\n",
    "        self.log(\n",
    "            \"test_accuracy\",\n",
    "            accuracy,\n",
    "            on_step=True,\n",
    "            on_epoch=True,\n",
    "            prog_bar=True,\n",
    "            logger=True,\n",
    "        )\n",
    "\n",
    "    def configure_optimizers(self):\n",
    "        optimizer = torch.optim.Adam(self.parameters(), lr=self.learning_rate)\n",
    "\n",
    "        scheduler = torch.optim.lr_scheduler.StepLR(\n",
    "            optimizer=optimizer,\n",
    "            step_size=35,\n",
    "            gamma=0.1,\n",
    "            verbose=True,\n",
    "        )\n",
    "        scheduler_dict = {\n",
    "            \"scheduler\": scheduler,\n",
    "            \"interval\": \"epoch\",\n",
    "            \"monitor\": \"val_loss\",\n",
    "        }\n",
    "\n",
    "        return [optimizer], [scheduler_dict]\n"
   ]
  },
  {
   "cell_type": "code",
   "execution_count": 8,
   "metadata": {
    "notebookRunGroups": {
     "groupValue": "1"
    }
   },
   "outputs": [],
   "source": [
    "class MetricsCallback(Callback):\n",
    "    def __init__(self, classes):\n",
    "        super().__init__()\n",
    "        self.classes = classes\n",
    "        self.precisions = [[] for _ in range(len(classes))]\n",
    "        self.recalls = [[] for _ in range(len(classes))]\n",
    "        self.num_points = (\n",
    "            100  # Number of points to interpolate for precision-recall curves\n",
    "        )\n",
    "\n",
    "    def on_validation_epoch_end(\n",
    "        self, trainer: pl.Trainer, pl_module: pl.LightningModule\n",
    "    ):\n",
    "        pl_module.eval()\n",
    "        y_true = []\n",
    "        y_pred_probs = []\n",
    "\n",
    "        # Get predictions and true labels\n",
    "        with torch.no_grad():\n",
    "            for batch in trainer.val_dataloaders:\n",
    "                x, y = batch\n",
    "                x = x.to(DEVICE, dtype=torch.float32)  # Convert to desired data type\n",
    "                y_true.extend(y.cpu().numpy())\n",
    "                y_pred_probs.extend(torch.softmax(pl_module(x), dim=1).cpu().numpy())\n",
    "\n",
    "        # Convert y_true to NumPy array\n",
    "        y_true = np.array(y_true)\n",
    "\n",
    "        # Compute precision and recall for each class\n",
    "        for class_idx in range(len(self.classes)):\n",
    "            y_true_class = y_true == class_idx\n",
    "            y_pred_probs_class = np.array(y_pred_probs)[:, class_idx]\n",
    "            precision, recall, _ = precision_recall_curve(\n",
    "                y_true=y_true_class, probas_pred=y_pred_probs_class\n",
    "            )\n",
    "\n",
    "            # Interpolate precision-recall curve\n",
    "            precision_interp = np.interp(\n",
    "                np.linspace(0, 1, self.num_points), recall[::-1], precision[::-1]\n",
    "            )\n",
    "            recall_interp = np.linspace(0, 1, self.num_points)\n",
    "\n",
    "            self.precisions[class_idx].append(precision_interp)\n",
    "            self.recalls[class_idx].append(recall_interp)\n",
    "\n",
    "        # Log metrics to Weights & Biases\n",
    "        wandb.log(\n",
    "            {\n",
    "                \"precision-recall-curves\": wandb.plot.pr_curve(\n",
    "                    y_true=y_true,\n",
    "                    y_probas=y_pred_probs,\n",
    "                    labels=[*map(mapped_dict.get, self.classes)],\n",
    "                ),\n",
    "                \"confusion-matrix\": wandb.plot.confusion_matrix(\n",
    "                    y_true=y_true,\n",
    "                    preds=np.argmax(y_pred_probs, axis=1),\n",
    "                    class_names=[*map(mapped_dict.get, self.classes)],\n",
    "                    title=\"Confusion Matrix\",\n",
    "                ),\n",
    "            }\n",
    "        )\n"
   ]
  },
  {
   "cell_type": "code",
   "execution_count": 9,
   "metadata": {
    "notebookRunGroups": {
     "groupValue": "1"
    }
   },
   "outputs": [],
   "source": [
    "reversed_dict = {value: key for key, value in mapped_dict.items()}\n",
    "train_dataset = myTrainDataSet(MLP_X_train, MLP_y_train)\n",
    "test_dataset = myTrainDataSet(MLP_X_test, MLP_y_test)\n",
    "\n",
    "# testitem = torch.cat((train_dataset.y_train.unsqueeze(1), train_dataset.X_train), dim=1)\n",
    "\n",
    "# use 20% of training data for validation\n",
    "train_set_size = int(len(train_dataset) * 0.8)\n",
    "valid_set_size = len(train_dataset) - train_set_size\n",
    "\n",
    "# split the train set into two\n",
    "seed = torch.Generator().manual_seed(42)\n",
    "train_dataset, val_dataset = utils.data.random_split(\n",
    "    train_dataset,\n",
    "    [train_set_size, valid_set_size],\n",
    "    generator=seed,\n",
    ")\n"
   ]
  },
  {
   "cell_type": "code",
   "execution_count": 10,
   "metadata": {
    "notebookRunGroups": {
     "groupValue": "1"
    }
   },
   "outputs": [
    {
     "name": "stderr",
     "output_type": "stream",
     "text": [
      "Failed to detect the name of this notebook, you can set it manually with the WANDB_NOTEBOOK_NAME environment variable to enable code saving.\n",
      "\u001b[34m\u001b[1mwandb\u001b[0m: Currently logged in as: \u001b[33malexvillr\u001b[0m. Use \u001b[1m`wandb login --relogin`\u001b[0m to force relogin\n"
     ]
    },
    {
     "data": {
      "application/vnd.jupyter.widget-view+json": {
       "model_id": "14c6c4e264d748f390bc334faa44e959",
       "version_major": 2,
       "version_minor": 0
      },
      "text/plain": [
       "VBox(children=(Label(value='Waiting for wandb.init()...\\r'), FloatProgress(value=0.016753066666569793, max=1.0…"
      ]
     },
     "metadata": {},
     "output_type": "display_data"
    },
    {
     "data": {
      "text/html": [
       "Tracking run with wandb version 0.15.3"
      ],
      "text/plain": [
       "<IPython.core.display.HTML object>"
      ]
     },
     "metadata": {},
     "output_type": "display_data"
    },
    {
     "data": {
      "text/html": [
       "Run data is saved locally in <code>/Users/alexviller/Documents/GitHub/COMP4702/assignment/wandb/run-20230524_101200-m1zg7ow4</code>"
      ],
      "text/plain": [
       "<IPython.core.display.HTML object>"
      ]
     },
     "metadata": {},
     "output_type": "display_data"
    },
    {
     "data": {
      "text/html": [
       "Syncing run <strong><a href='https://wandb.ai/alexvillr/COMP4702/runs/m1zg7ow4' target=\"_blank\">fallen-sponge-34</a></strong> to <a href='https://wandb.ai/alexvillr/COMP4702' target=\"_blank\">Weights & Biases</a> (<a href='https://wandb.me/run' target=\"_blank\">docs</a>)<br/>"
      ],
      "text/plain": [
       "<IPython.core.display.HTML object>"
      ]
     },
     "metadata": {},
     "output_type": "display_data"
    },
    {
     "data": {
      "text/html": [
       " View project at <a href='https://wandb.ai/alexvillr/COMP4702' target=\"_blank\">https://wandb.ai/alexvillr/COMP4702</a>"
      ],
      "text/plain": [
       "<IPython.core.display.HTML object>"
      ]
     },
     "metadata": {},
     "output_type": "display_data"
    },
    {
     "data": {
      "text/html": [
       " View run at <a href='https://wandb.ai/alexvillr/COMP4702/runs/m1zg7ow4' target=\"_blank\">https://wandb.ai/alexvillr/COMP4702/runs/m1zg7ow4</a>"
      ],
      "text/plain": [
       "<IPython.core.display.HTML object>"
      ]
     },
     "metadata": {},
     "output_type": "display_data"
    },
    {
     "name": "stderr",
     "output_type": "stream",
     "text": [
      "/Users/alexviller/micromamba/envs/testenv/lib/python3.11/site-packages/lightning/pytorch/loggers/wandb.py:395: UserWarning: There is a wandb run already in progress and newly created instances of `WandbLogger` will reuse this run. If this is not desired, call `wandb.finish()` before instantiating `WandbLogger`.\n",
      "  rank_zero_warn(\n",
      "GPU available: True (mps), used: True\n",
      "TPU available: False, using: 0 TPU cores\n",
      "IPU available: False, using: 0 IPUs\n",
      "HPU available: False, using: 0 HPUs\n",
      "\n",
      "   | Name       | Type              | Params\n",
      "--------------------------------------------------\n",
      "0  | conv1      | Conv1d            | 3.1 K \n",
      "1  | conv2      | Conv1d            | 4.2 M \n",
      "2  | conv3      | Conv1d            | 16.8 M\n",
      "3  | pool       | AdaptiveMaxPool1d | 0     \n",
      "4  | dropout    | Dropout           | 0     \n",
      "5  | batchnorm1 | BatchNorm1d       | 2.0 K \n",
      "6  | batchnorm2 | BatchNorm1d       | 4.1 K \n",
      "7  | batchnorm3 | BatchNorm1d       | 8.2 K \n",
      "8  | fc1        | Linear            | 4.2 M \n",
      "9  | fc2        | Linear            | 17.4 K\n",
      "10 | lossfn     | CrossEntropyLoss  | 0     \n",
      "--------------------------------------------------\n",
      "25.2 M    Trainable params\n",
      "0         Non-trainable params\n",
      "25.2 M    Total params\n",
      "100.831   Total estimated model params size (MB)\n"
     ]
    },
    {
     "name": "stdout",
     "output_type": "stream",
     "text": [
      "Adjusting learning rate of group 0 to 1.0000e-03.\n"
     ]
    },
    {
     "data": {
      "application/vnd.jupyter.widget-view+json": {
       "model_id": "3fe03a376a2840a681cdf741a9a272af",
       "version_major": 2,
       "version_minor": 0
      },
      "text/plain": [
       "Sanity Checking: 0it [00:00, ?it/s]"
      ]
     },
     "metadata": {},
     "output_type": "display_data"
    },
    {
     "name": "stderr",
     "output_type": "stream",
     "text": [
      "/Users/alexviller/micromamba/envs/testenv/lib/python3.11/site-packages/lightning/pytorch/trainer/connectors/data_connector.py:430: PossibleUserWarning: The dataloader, val_dataloader, does not have many workers which may be a bottleneck. Consider increasing the value of the `num_workers` argument` (try 8 which is the number of cpus on this machine) in the `DataLoader` init to improve performance.\n",
      "  rank_zero_warn(\n",
      "/Users/alexviller/micromamba/envs/testenv/lib/python3.11/site-packages/lightning/pytorch/trainer/connectors/data_connector.py:430: PossibleUserWarning: The dataloader, train_dataloader, does not have many workers which may be a bottleneck. Consider increasing the value of the `num_workers` argument` (try 8 which is the number of cpus on this machine) in the `DataLoader` init to improve performance.\n",
      "  rank_zero_warn(\n",
      "/Users/alexviller/micromamba/envs/testenv/lib/python3.11/site-packages/lightning/pytorch/loops/fit_loop.py:280: PossibleUserWarning: The number of training batches (28) is smaller than the logging interval Trainer(log_every_n_steps=50). Set a lower value for log_every_n_steps if you want to see logs for the training epoch.\n",
      "  rank_zero_warn(\n"
     ]
    },
    {
     "data": {
      "application/vnd.jupyter.widget-view+json": {
       "model_id": "fcc59d766e3e40b99b5485184917f990",
       "version_major": 2,
       "version_minor": 0
      },
      "text/plain": [
       "Training: 0it [00:00, ?it/s]"
      ]
     },
     "metadata": {},
     "output_type": "display_data"
    },
    {
     "name": "stdout",
     "output_type": "stream",
     "text": [
      "Adjusting learning rate of group 0 to 1.0000e-03.\n"
     ]
    },
    {
     "data": {
      "application/vnd.jupyter.widget-view+json": {
       "model_id": "e2a2df0d4caa4750b43a9228489d4cdb",
       "version_major": 2,
       "version_minor": 0
      },
      "text/plain": [
       "Validation: 0it [00:00, ?it/s]"
      ]
     },
     "metadata": {},
     "output_type": "display_data"
    },
    {
     "name": "stderr",
     "output_type": "stream",
     "text": [
      "Metric val_acc improved. New best score: 0.359\n"
     ]
    },
    {
     "name": "stdout",
     "output_type": "stream",
     "text": [
      "Adjusting learning rate of group 0 to 1.0000e-03.\n"
     ]
    },
    {
     "data": {
      "application/vnd.jupyter.widget-view+json": {
       "model_id": "9543641720f24c999b9c8c007ca2783e",
       "version_major": 2,
       "version_minor": 0
      },
      "text/plain": [
       "Validation: 0it [00:00, ?it/s]"
      ]
     },
     "metadata": {},
     "output_type": "display_data"
    },
    {
     "name": "stderr",
     "output_type": "stream",
     "text": [
      "Metric val_acc improved by 0.139 >= min_delta = 0.0. New best score: 0.498\n"
     ]
    },
    {
     "name": "stdout",
     "output_type": "stream",
     "text": [
      "Adjusting learning rate of group 0 to 1.0000e-03.\n"
     ]
    },
    {
     "data": {
      "application/vnd.jupyter.widget-view+json": {
       "model_id": "882e74b17e6947398a4bc4789063576a",
       "version_major": 2,
       "version_minor": 0
      },
      "text/plain": [
       "Validation: 0it [00:00, ?it/s]"
      ]
     },
     "metadata": {},
     "output_type": "display_data"
    },
    {
     "name": "stderr",
     "output_type": "stream",
     "text": [
      "Metric val_acc improved by 0.024 >= min_delta = 0.0. New best score: 0.522\n"
     ]
    },
    {
     "name": "stdout",
     "output_type": "stream",
     "text": [
      "Adjusting learning rate of group 0 to 1.0000e-03.\n"
     ]
    },
    {
     "data": {
      "application/vnd.jupyter.widget-view+json": {
       "model_id": "f703923c130640a2991fc5eca31e84cd",
       "version_major": 2,
       "version_minor": 0
      },
      "text/plain": [
       "Validation: 0it [00:00, ?it/s]"
      ]
     },
     "metadata": {},
     "output_type": "display_data"
    },
    {
     "name": "stderr",
     "output_type": "stream",
     "text": [
      "Metric val_acc improved by 0.026 >= min_delta = 0.0. New best score: 0.548\n"
     ]
    },
    {
     "name": "stdout",
     "output_type": "stream",
     "text": [
      "Adjusting learning rate of group 0 to 1.0000e-03.\n"
     ]
    },
    {
     "data": {
      "application/vnd.jupyter.widget-view+json": {
       "model_id": "56fdc947ae1b47368bfa4aadca1745c1",
       "version_major": 2,
       "version_minor": 0
      },
      "text/plain": [
       "Validation: 0it [00:00, ?it/s]"
      ]
     },
     "metadata": {},
     "output_type": "display_data"
    },
    {
     "name": "stdout",
     "output_type": "stream",
     "text": [
      "Adjusting learning rate of group 0 to 1.0000e-03.\n"
     ]
    },
    {
     "data": {
      "application/vnd.jupyter.widget-view+json": {
       "model_id": "0cb5a53dd3ce4db7be06d27fbdd9f884",
       "version_major": 2,
       "version_minor": 0
      },
      "text/plain": [
       "Validation: 0it [00:00, ?it/s]"
      ]
     },
     "metadata": {},
     "output_type": "display_data"
    },
    {
     "name": "stdout",
     "output_type": "stream",
     "text": [
      "Adjusting learning rate of group 0 to 1.0000e-03.\n"
     ]
    },
    {
     "data": {
      "application/vnd.jupyter.widget-view+json": {
       "model_id": "d97fec7d2f3b47e1b57c2c8797089286",
       "version_major": 2,
       "version_minor": 0
      },
      "text/plain": [
       "Validation: 0it [00:00, ?it/s]"
      ]
     },
     "metadata": {},
     "output_type": "display_data"
    },
    {
     "name": "stderr",
     "output_type": "stream",
     "text": [
      "Metric val_acc improved by 0.049 >= min_delta = 0.0. New best score: 0.597\n"
     ]
    },
    {
     "name": "stdout",
     "output_type": "stream",
     "text": [
      "Adjusting learning rate of group 0 to 1.0000e-03.\n"
     ]
    },
    {
     "data": {
      "application/vnd.jupyter.widget-view+json": {
       "model_id": "5192e26079234853a1cbba79dd9c6ba3",
       "version_major": 2,
       "version_minor": 0
      },
      "text/plain": [
       "Validation: 0it [00:00, ?it/s]"
      ]
     },
     "metadata": {},
     "output_type": "display_data"
    },
    {
     "name": "stdout",
     "output_type": "stream",
     "text": [
      "Adjusting learning rate of group 0 to 1.0000e-03.\n"
     ]
    },
    {
     "data": {
      "application/vnd.jupyter.widget-view+json": {
       "model_id": "a13232032ff84672972470ad489e1703",
       "version_major": 2,
       "version_minor": 0
      },
      "text/plain": [
       "Validation: 0it [00:00, ?it/s]"
      ]
     },
     "metadata": {},
     "output_type": "display_data"
    },
    {
     "name": "stdout",
     "output_type": "stream",
     "text": [
      "Adjusting learning rate of group 0 to 1.0000e-03.\n"
     ]
    },
    {
     "data": {
      "application/vnd.jupyter.widget-view+json": {
       "model_id": "bcda67b2837041f59622e6e7ca55e575",
       "version_major": 2,
       "version_minor": 0
      },
      "text/plain": [
       "Validation: 0it [00:00, ?it/s]"
      ]
     },
     "metadata": {},
     "output_type": "display_data"
    },
    {
     "name": "stderr",
     "output_type": "stream",
     "text": [
      "Metric val_acc improved by 0.031 >= min_delta = 0.0. New best score: 0.628\n"
     ]
    },
    {
     "name": "stdout",
     "output_type": "stream",
     "text": [
      "Adjusting learning rate of group 0 to 1.0000e-03.\n"
     ]
    },
    {
     "data": {
      "application/vnd.jupyter.widget-view+json": {
       "model_id": "8c8145af6e81436384510c1764fdb4e8",
       "version_major": 2,
       "version_minor": 0
      },
      "text/plain": [
       "Validation: 0it [00:00, ?it/s]"
      ]
     },
     "metadata": {},
     "output_type": "display_data"
    },
    {
     "name": "stdout",
     "output_type": "stream",
     "text": [
      "Adjusting learning rate of group 0 to 1.0000e-03.\n"
     ]
    },
    {
     "data": {
      "application/vnd.jupyter.widget-view+json": {
       "model_id": "9dbecc99cd344a2285930abdec62a482",
       "version_major": 2,
       "version_minor": 0
      },
      "text/plain": [
       "Validation: 0it [00:00, ?it/s]"
      ]
     },
     "metadata": {},
     "output_type": "display_data"
    },
    {
     "name": "stdout",
     "output_type": "stream",
     "text": [
      "Adjusting learning rate of group 0 to 1.0000e-03.\n"
     ]
    },
    {
     "data": {
      "application/vnd.jupyter.widget-view+json": {
       "model_id": "1c7e5da11f674a9d8aca30d91841513c",
       "version_major": 2,
       "version_minor": 0
      },
      "text/plain": [
       "Validation: 0it [00:00, ?it/s]"
      ]
     },
     "metadata": {},
     "output_type": "display_data"
    },
    {
     "name": "stderr",
     "output_type": "stream",
     "text": [
      "Metric val_acc improved by 0.041 >= min_delta = 0.0. New best score: 0.670\n"
     ]
    },
    {
     "name": "stdout",
     "output_type": "stream",
     "text": [
      "Adjusting learning rate of group 0 to 1.0000e-03.\n"
     ]
    },
    {
     "data": {
      "application/vnd.jupyter.widget-view+json": {
       "model_id": "dcdda59b522f4200ae41ef1f20744075",
       "version_major": 2,
       "version_minor": 0
      },
      "text/plain": [
       "Validation: 0it [00:00, ?it/s]"
      ]
     },
     "metadata": {},
     "output_type": "display_data"
    },
    {
     "name": "stderr",
     "output_type": "stream",
     "text": [
      "Metric val_acc improved by 0.002 >= min_delta = 0.0. New best score: 0.672\n"
     ]
    },
    {
     "name": "stdout",
     "output_type": "stream",
     "text": [
      "Adjusting learning rate of group 0 to 1.0000e-03.\n"
     ]
    },
    {
     "data": {
      "application/vnd.jupyter.widget-view+json": {
       "model_id": "1a4a706f42b34af19c3cde3ffc816486",
       "version_major": 2,
       "version_minor": 0
      },
      "text/plain": [
       "Validation: 0it [00:00, ?it/s]"
      ]
     },
     "metadata": {},
     "output_type": "display_data"
    },
    {
     "name": "stderr",
     "output_type": "stream",
     "text": [
      "Metric val_acc improved by 0.054 >= min_delta = 0.0. New best score: 0.726\n"
     ]
    },
    {
     "name": "stdout",
     "output_type": "stream",
     "text": [
      "Adjusting learning rate of group 0 to 1.0000e-03.\n"
     ]
    },
    {
     "data": {
      "application/vnd.jupyter.widget-view+json": {
       "model_id": "60925e936dd5466989401b209f90048f",
       "version_major": 2,
       "version_minor": 0
      },
      "text/plain": [
       "Validation: 0it [00:00, ?it/s]"
      ]
     },
     "metadata": {},
     "output_type": "display_data"
    },
    {
     "name": "stdout",
     "output_type": "stream",
     "text": [
      "Adjusting learning rate of group 0 to 1.0000e-03.\n"
     ]
    },
    {
     "data": {
      "application/vnd.jupyter.widget-view+json": {
       "model_id": "31ea63dd0a9342af86a3046a45db7e3f",
       "version_major": 2,
       "version_minor": 0
      },
      "text/plain": [
       "Validation: 0it [00:00, ?it/s]"
      ]
     },
     "metadata": {},
     "output_type": "display_data"
    },
    {
     "name": "stdout",
     "output_type": "stream",
     "text": [
      "Adjusting learning rate of group 0 to 1.0000e-03.\n"
     ]
    },
    {
     "data": {
      "application/vnd.jupyter.widget-view+json": {
       "model_id": "9a05db07280349039587d02446e7cb8c",
       "version_major": 2,
       "version_minor": 0
      },
      "text/plain": [
       "Validation: 0it [00:00, ?it/s]"
      ]
     },
     "metadata": {},
     "output_type": "display_data"
    },
    {
     "name": "stderr",
     "output_type": "stream",
     "text": [
      "Metric val_acc improved by 0.006 >= min_delta = 0.0. New best score: 0.731\n"
     ]
    },
    {
     "name": "stdout",
     "output_type": "stream",
     "text": [
      "Adjusting learning rate of group 0 to 1.0000e-03.\n"
     ]
    },
    {
     "data": {
      "application/vnd.jupyter.widget-view+json": {
       "model_id": "8028408ce5f842328793b1cf55fb6039",
       "version_major": 2,
       "version_minor": 0
      },
      "text/plain": [
       "Validation: 0it [00:00, ?it/s]"
      ]
     },
     "metadata": {},
     "output_type": "display_data"
    },
    {
     "name": "stderr",
     "output_type": "stream",
     "text": [
      "Metric val_acc improved by 0.008 >= min_delta = 0.0. New best score: 0.739\n"
     ]
    },
    {
     "name": "stdout",
     "output_type": "stream",
     "text": [
      "Adjusting learning rate of group 0 to 1.0000e-03.\n"
     ]
    },
    {
     "data": {
      "application/vnd.jupyter.widget-view+json": {
       "model_id": "f4772a987d8d4a0fb060b3cf64c8eb4a",
       "version_major": 2,
       "version_minor": 0
      },
      "text/plain": [
       "Validation: 0it [00:00, ?it/s]"
      ]
     },
     "metadata": {},
     "output_type": "display_data"
    },
    {
     "name": "stdout",
     "output_type": "stream",
     "text": [
      "Adjusting learning rate of group 0 to 1.0000e-03.\n"
     ]
    },
    {
     "data": {
      "application/vnd.jupyter.widget-view+json": {
       "model_id": "821ce2afb1604ca0a134db82dbdd0972",
       "version_major": 2,
       "version_minor": 0
      },
      "text/plain": [
       "Validation: 0it [00:00, ?it/s]"
      ]
     },
     "metadata": {},
     "output_type": "display_data"
    },
    {
     "name": "stdout",
     "output_type": "stream",
     "text": [
      "Adjusting learning rate of group 0 to 1.0000e-03.\n"
     ]
    },
    {
     "data": {
      "application/vnd.jupyter.widget-view+json": {
       "model_id": "1251e2c5ed534bf58200c2ca0c85a300",
       "version_major": 2,
       "version_minor": 0
      },
      "text/plain": [
       "Validation: 0it [00:00, ?it/s]"
      ]
     },
     "metadata": {},
     "output_type": "display_data"
    },
    {
     "name": "stdout",
     "output_type": "stream",
     "text": [
      "Adjusting learning rate of group 0 to 1.0000e-03.\n"
     ]
    },
    {
     "data": {
      "application/vnd.jupyter.widget-view+json": {
       "model_id": "41cc335cba4f41bcb118e2f7dfad6a83",
       "version_major": 2,
       "version_minor": 0
      },
      "text/plain": [
       "Validation: 0it [00:00, ?it/s]"
      ]
     },
     "metadata": {},
     "output_type": "display_data"
    },
    {
     "name": "stderr",
     "output_type": "stream",
     "text": [
      "Metric val_acc improved by 0.028 >= min_delta = 0.0. New best score: 0.767\n"
     ]
    },
    {
     "name": "stdout",
     "output_type": "stream",
     "text": [
      "Adjusting learning rate of group 0 to 1.0000e-03.\n"
     ]
    },
    {
     "data": {
      "application/vnd.jupyter.widget-view+json": {
       "model_id": "3735176bd0ae4c71a4fd616f3eb7c1c9",
       "version_major": 2,
       "version_minor": 0
      },
      "text/plain": [
       "Validation: 0it [00:00, ?it/s]"
      ]
     },
     "metadata": {},
     "output_type": "display_data"
    },
    {
     "name": "stdout",
     "output_type": "stream",
     "text": [
      "Adjusting learning rate of group 0 to 1.0000e-03.\n"
     ]
    },
    {
     "data": {
      "application/vnd.jupyter.widget-view+json": {
       "model_id": "943adf3f868d40edac44df387d64402b",
       "version_major": 2,
       "version_minor": 0
      },
      "text/plain": [
       "Validation: 0it [00:00, ?it/s]"
      ]
     },
     "metadata": {},
     "output_type": "display_data"
    },
    {
     "name": "stdout",
     "output_type": "stream",
     "text": [
      "Adjusting learning rate of group 0 to 1.0000e-03.\n"
     ]
    },
    {
     "data": {
      "application/vnd.jupyter.widget-view+json": {
       "model_id": "a14ef1c9d9a049b7a240142d76e5c349",
       "version_major": 2,
       "version_minor": 0
      },
      "text/plain": [
       "Validation: 0it [00:00, ?it/s]"
      ]
     },
     "metadata": {},
     "output_type": "display_data"
    },
    {
     "name": "stderr",
     "output_type": "stream",
     "text": [
      "Metric val_acc improved by 0.007 >= min_delta = 0.0. New best score: 0.774\n"
     ]
    },
    {
     "name": "stdout",
     "output_type": "stream",
     "text": [
      "Adjusting learning rate of group 0 to 1.0000e-03.\n"
     ]
    },
    {
     "data": {
      "application/vnd.jupyter.widget-view+json": {
       "model_id": "ed0ccf77106f4dc891cb4442075328cc",
       "version_major": 2,
       "version_minor": 0
      },
      "text/plain": [
       "Validation: 0it [00:00, ?it/s]"
      ]
     },
     "metadata": {},
     "output_type": "display_data"
    },
    {
     "name": "stdout",
     "output_type": "stream",
     "text": [
      "Adjusting learning rate of group 0 to 1.0000e-03.\n"
     ]
    },
    {
     "data": {
      "application/vnd.jupyter.widget-view+json": {
       "model_id": "88d7d1b8361f49259f25daba5a6bfac5",
       "version_major": 2,
       "version_minor": 0
      },
      "text/plain": [
       "Validation: 0it [00:00, ?it/s]"
      ]
     },
     "metadata": {},
     "output_type": "display_data"
    },
    {
     "name": "stdout",
     "output_type": "stream",
     "text": [
      "Adjusting learning rate of group 0 to 1.0000e-03.\n"
     ]
    },
    {
     "data": {
      "application/vnd.jupyter.widget-view+json": {
       "model_id": "c1ee39c75d104fc2837d7060873ce44a",
       "version_major": 2,
       "version_minor": 0
      },
      "text/plain": [
       "Validation: 0it [00:00, ?it/s]"
      ]
     },
     "metadata": {},
     "output_type": "display_data"
    },
    {
     "name": "stderr",
     "output_type": "stream",
     "text": [
      "Metric val_acc improved by 0.012 >= min_delta = 0.0. New best score: 0.786\n"
     ]
    },
    {
     "name": "stdout",
     "output_type": "stream",
     "text": [
      "Adjusting learning rate of group 0 to 1.0000e-03.\n"
     ]
    },
    {
     "data": {
      "application/vnd.jupyter.widget-view+json": {
       "model_id": "061a2e5f99e64bf584058d57e194d59a",
       "version_major": 2,
       "version_minor": 0
      },
      "text/plain": [
       "Validation: 0it [00:00, ?it/s]"
      ]
     },
     "metadata": {},
     "output_type": "display_data"
    },
    {
     "name": "stderr",
     "output_type": "stream",
     "text": [
      "Metric val_acc improved by 0.003 >= min_delta = 0.0. New best score: 0.789\n"
     ]
    },
    {
     "name": "stdout",
     "output_type": "stream",
     "text": [
      "Adjusting learning rate of group 0 to 1.0000e-03.\n"
     ]
    },
    {
     "data": {
      "application/vnd.jupyter.widget-view+json": {
       "model_id": "4afd80cc49674592b3e21b0be62c5610",
       "version_major": 2,
       "version_minor": 0
      },
      "text/plain": [
       "Validation: 0it [00:00, ?it/s]"
      ]
     },
     "metadata": {},
     "output_type": "display_data"
    },
    {
     "name": "stdout",
     "output_type": "stream",
     "text": [
      "Adjusting learning rate of group 0 to 1.0000e-03.\n"
     ]
    },
    {
     "data": {
      "application/vnd.jupyter.widget-view+json": {
       "model_id": "8420710aab9046c18b33714f0855b408",
       "version_major": 2,
       "version_minor": 0
      },
      "text/plain": [
       "Validation: 0it [00:00, ?it/s]"
      ]
     },
     "metadata": {},
     "output_type": "display_data"
    },
    {
     "name": "stdout",
     "output_type": "stream",
     "text": [
      "Adjusting learning rate of group 0 to 1.0000e-03.\n"
     ]
    },
    {
     "data": {
      "application/vnd.jupyter.widget-view+json": {
       "model_id": "99c15c9b2ba541678da6cccd8dff8ac5",
       "version_major": 2,
       "version_minor": 0
      },
      "text/plain": [
       "Validation: 0it [00:00, ?it/s]"
      ]
     },
     "metadata": {},
     "output_type": "display_data"
    },
    {
     "name": "stdout",
     "output_type": "stream",
     "text": [
      "Adjusting learning rate of group 0 to 1.0000e-03.\n"
     ]
    },
    {
     "data": {
      "application/vnd.jupyter.widget-view+json": {
       "model_id": "42fbe1f739f44c77a5bd7d288b767c63",
       "version_major": 2,
       "version_minor": 0
      },
      "text/plain": [
       "Validation: 0it [00:00, ?it/s]"
      ]
     },
     "metadata": {},
     "output_type": "display_data"
    },
    {
     "name": "stdout",
     "output_type": "stream",
     "text": [
      "Adjusting learning rate of group 0 to 1.0000e-04.\n"
     ]
    },
    {
     "data": {
      "application/vnd.jupyter.widget-view+json": {
       "model_id": "090397bc7d8e4b4ca22a20494bf857bd",
       "version_major": 2,
       "version_minor": 0
      },
      "text/plain": [
       "Validation: 0it [00:00, ?it/s]"
      ]
     },
     "metadata": {},
     "output_type": "display_data"
    },
    {
     "name": "stderr",
     "output_type": "stream",
     "text": [
      "wandb: Network error (TransientError), entering retry loop.\n"
     ]
    },
    {
     "name": "stdout",
     "output_type": "stream",
     "text": [
      "Adjusting learning rate of group 0 to 1.0000e-04.\n"
     ]
    },
    {
     "data": {
      "application/vnd.jupyter.widget-view+json": {
       "model_id": "7d1603597bfe489e915c1e1aaa81ab7b",
       "version_major": 2,
       "version_minor": 0
      },
      "text/plain": [
       "Validation: 0it [00:00, ?it/s]"
      ]
     },
     "metadata": {},
     "output_type": "display_data"
    },
    {
     "name": "stderr",
     "output_type": "stream",
     "text": [
      "Metric val_acc improved by 0.037 >= min_delta = 0.0. New best score: 0.826\n"
     ]
    },
    {
     "name": "stdout",
     "output_type": "stream",
     "text": [
      "Adjusting learning rate of group 0 to 1.0000e-04.\n"
     ]
    },
    {
     "data": {
      "application/vnd.jupyter.widget-view+json": {
       "model_id": "553f33ec3ec94d8caab4c64d0e6f0ea7",
       "version_major": 2,
       "version_minor": 0
      },
      "text/plain": [
       "Validation: 0it [00:00, ?it/s]"
      ]
     },
     "metadata": {},
     "output_type": "display_data"
    },
    {
     "name": "stdout",
     "output_type": "stream",
     "text": [
      "Adjusting learning rate of group 0 to 1.0000e-04.\n"
     ]
    },
    {
     "data": {
      "application/vnd.jupyter.widget-view+json": {
       "model_id": "0feaa6cf06c347c187919cd6735f0a87",
       "version_major": 2,
       "version_minor": 0
      },
      "text/plain": [
       "Validation: 0it [00:00, ?it/s]"
      ]
     },
     "metadata": {},
     "output_type": "display_data"
    },
    {
     "name": "stdout",
     "output_type": "stream",
     "text": [
      "Adjusting learning rate of group 0 to 1.0000e-04.\n"
     ]
    },
    {
     "data": {
      "application/vnd.jupyter.widget-view+json": {
       "model_id": "0bc79aa48451467bbb82f79f17ef83d8",
       "version_major": 2,
       "version_minor": 0
      },
      "text/plain": [
       "Validation: 0it [00:00, ?it/s]"
      ]
     },
     "metadata": {},
     "output_type": "display_data"
    },
    {
     "name": "stdout",
     "output_type": "stream",
     "text": [
      "Adjusting learning rate of group 0 to 1.0000e-04.\n"
     ]
    },
    {
     "data": {
      "application/vnd.jupyter.widget-view+json": {
       "model_id": "002c34f25ccb4cc2b7784fff9d38a5f9",
       "version_major": 2,
       "version_minor": 0
      },
      "text/plain": [
       "Validation: 0it [00:00, ?it/s]"
      ]
     },
     "metadata": {},
     "output_type": "display_data"
    },
    {
     "name": "stdout",
     "output_type": "stream",
     "text": [
      "Adjusting learning rate of group 0 to 1.0000e-04.\n"
     ]
    },
    {
     "data": {
      "application/vnd.jupyter.widget-view+json": {
       "model_id": "d57b7e3ca9834b58b3baa405e117257d",
       "version_major": 2,
       "version_minor": 0
      },
      "text/plain": [
       "Validation: 0it [00:00, ?it/s]"
      ]
     },
     "metadata": {},
     "output_type": "display_data"
    },
    {
     "name": "stdout",
     "output_type": "stream",
     "text": [
      "Adjusting learning rate of group 0 to 1.0000e-04.\n"
     ]
    },
    {
     "data": {
      "application/vnd.jupyter.widget-view+json": {
       "model_id": "b0611e1193a046faa7cabeceb7287841",
       "version_major": 2,
       "version_minor": 0
      },
      "text/plain": [
       "Validation: 0it [00:00, ?it/s]"
      ]
     },
     "metadata": {},
     "output_type": "display_data"
    },
    {
     "name": "stdout",
     "output_type": "stream",
     "text": [
      "Adjusting learning rate of group 0 to 1.0000e-04.\n"
     ]
    },
    {
     "data": {
      "application/vnd.jupyter.widget-view+json": {
       "model_id": "a4e230782b0a459f9b15091b91e48fc0",
       "version_major": 2,
       "version_minor": 0
      },
      "text/plain": [
       "Validation: 0it [00:00, ?it/s]"
      ]
     },
     "metadata": {},
     "output_type": "display_data"
    },
    {
     "name": "stdout",
     "output_type": "stream",
     "text": [
      "Adjusting learning rate of group 0 to 1.0000e-04.\n"
     ]
    },
    {
     "data": {
      "application/vnd.jupyter.widget-view+json": {
       "model_id": "1c1971abfbde467aaf1130cb94c23617",
       "version_major": 2,
       "version_minor": 0
      },
      "text/plain": [
       "Validation: 0it [00:00, ?it/s]"
      ]
     },
     "metadata": {},
     "output_type": "display_data"
    },
    {
     "name": "stdout",
     "output_type": "stream",
     "text": [
      "Adjusting learning rate of group 0 to 1.0000e-04.\n"
     ]
    },
    {
     "data": {
      "application/vnd.jupyter.widget-view+json": {
       "model_id": "905d457e6bed447e9633b196fc26626e",
       "version_major": 2,
       "version_minor": 0
      },
      "text/plain": [
       "Validation: 0it [00:00, ?it/s]"
      ]
     },
     "metadata": {},
     "output_type": "display_data"
    },
    {
     "name": "stdout",
     "output_type": "stream",
     "text": [
      "Adjusting learning rate of group 0 to 1.0000e-04.\n"
     ]
    },
    {
     "data": {
      "application/vnd.jupyter.widget-view+json": {
       "model_id": "75f284caeb2d472d829a10e78dd116cf",
       "version_major": 2,
       "version_minor": 0
      },
      "text/plain": [
       "Validation: 0it [00:00, ?it/s]"
      ]
     },
     "metadata": {},
     "output_type": "display_data"
    },
    {
     "name": "stdout",
     "output_type": "stream",
     "text": [
      "Adjusting learning rate of group 0 to 1.0000e-04.\n"
     ]
    },
    {
     "data": {
      "application/vnd.jupyter.widget-view+json": {
       "model_id": "b1f56c24f2da4f16b8dc0817dd1b9c02",
       "version_major": 2,
       "version_minor": 0
      },
      "text/plain": [
       "Validation: 0it [00:00, ?it/s]"
      ]
     },
     "metadata": {},
     "output_type": "display_data"
    },
    {
     "name": "stdout",
     "output_type": "stream",
     "text": [
      "Adjusting learning rate of group 0 to 1.0000e-04.\n"
     ]
    },
    {
     "data": {
      "application/vnd.jupyter.widget-view+json": {
       "model_id": "208fec7e6ca0494da59e92f63c750fd8",
       "version_major": 2,
       "version_minor": 0
      },
      "text/plain": [
       "Validation: 0it [00:00, ?it/s]"
      ]
     },
     "metadata": {},
     "output_type": "display_data"
    },
    {
     "name": "stdout",
     "output_type": "stream",
     "text": [
      "Adjusting learning rate of group 0 to 1.0000e-04.\n"
     ]
    },
    {
     "data": {
      "application/vnd.jupyter.widget-view+json": {
       "model_id": "e4be0d730f4745f2924ef772e17359bf",
       "version_major": 2,
       "version_minor": 0
      },
      "text/plain": [
       "Validation: 0it [00:00, ?it/s]"
      ]
     },
     "metadata": {},
     "output_type": "display_data"
    },
    {
     "name": "stderr",
     "output_type": "stream",
     "text": [
      "Metric val_acc improved by 0.009 >= min_delta = 0.0. New best score: 0.835\n"
     ]
    },
    {
     "name": "stdout",
     "output_type": "stream",
     "text": [
      "Adjusting learning rate of group 0 to 1.0000e-04.\n"
     ]
    },
    {
     "data": {
      "application/vnd.jupyter.widget-view+json": {
       "model_id": "bef12f78a75240bebb2a55da92f27b17",
       "version_major": 2,
       "version_minor": 0
      },
      "text/plain": [
       "Validation: 0it [00:00, ?it/s]"
      ]
     },
     "metadata": {},
     "output_type": "display_data"
    },
    {
     "name": "stdout",
     "output_type": "stream",
     "text": [
      "Adjusting learning rate of group 0 to 1.0000e-04.\n"
     ]
    },
    {
     "data": {
      "application/vnd.jupyter.widget-view+json": {
       "model_id": "04a638f6451748cfbc8237d02ef699ce",
       "version_major": 2,
       "version_minor": 0
      },
      "text/plain": [
       "Validation: 0it [00:00, ?it/s]"
      ]
     },
     "metadata": {},
     "output_type": "display_data"
    },
    {
     "name": "stdout",
     "output_type": "stream",
     "text": [
      "Adjusting learning rate of group 0 to 1.0000e-04.\n"
     ]
    },
    {
     "data": {
      "application/vnd.jupyter.widget-view+json": {
       "model_id": "f0b1862a39ad4bf08e8f9ad2f95ac0a4",
       "version_major": 2,
       "version_minor": 0
      },
      "text/plain": [
       "Validation: 0it [00:00, ?it/s]"
      ]
     },
     "metadata": {},
     "output_type": "display_data"
    },
    {
     "name": "stdout",
     "output_type": "stream",
     "text": [
      "Adjusting learning rate of group 0 to 1.0000e-04.\n"
     ]
    },
    {
     "data": {
      "application/vnd.jupyter.widget-view+json": {
       "model_id": "719c3ab6c14c4d21a1464249cde298f1",
       "version_major": 2,
       "version_minor": 0
      },
      "text/plain": [
       "Validation: 0it [00:00, ?it/s]"
      ]
     },
     "metadata": {},
     "output_type": "display_data"
    },
    {
     "name": "stderr",
     "output_type": "stream",
     "text": [
      "Metric val_acc improved by 0.001 >= min_delta = 0.0. New best score: 0.837\n"
     ]
    },
    {
     "name": "stdout",
     "output_type": "stream",
     "text": [
      "Adjusting learning rate of group 0 to 1.0000e-04.\n"
     ]
    },
    {
     "data": {
      "application/vnd.jupyter.widget-view+json": {
       "model_id": "14c0054c5e7f4b3696faaeca0bd8e7c7",
       "version_major": 2,
       "version_minor": 0
      },
      "text/plain": [
       "Validation: 0it [00:00, ?it/s]"
      ]
     },
     "metadata": {},
     "output_type": "display_data"
    },
    {
     "name": "stderr",
     "output_type": "stream",
     "text": [
      "Metric val_acc improved by 0.002 >= min_delta = 0.0. New best score: 0.839\n"
     ]
    },
    {
     "name": "stdout",
     "output_type": "stream",
     "text": [
      "Adjusting learning rate of group 0 to 1.0000e-04.\n"
     ]
    },
    {
     "data": {
      "application/vnd.jupyter.widget-view+json": {
       "model_id": "f74b2764441e4263b2c8890b3db4b0db",
       "version_major": 2,
       "version_minor": 0
      },
      "text/plain": [
       "Validation: 0it [00:00, ?it/s]"
      ]
     },
     "metadata": {},
     "output_type": "display_data"
    },
    {
     "name": "stdout",
     "output_type": "stream",
     "text": [
      "Adjusting learning rate of group 0 to 1.0000e-04.\n"
     ]
    },
    {
     "data": {
      "application/vnd.jupyter.widget-view+json": {
       "model_id": "f2bb679e2aac49e3b872a11551f082ea",
       "version_major": 2,
       "version_minor": 0
      },
      "text/plain": [
       "Validation: 0it [00:00, ?it/s]"
      ]
     },
     "metadata": {},
     "output_type": "display_data"
    },
    {
     "name": "stdout",
     "output_type": "stream",
     "text": [
      "Adjusting learning rate of group 0 to 1.0000e-04.\n"
     ]
    },
    {
     "data": {
      "application/vnd.jupyter.widget-view+json": {
       "model_id": "60b6f8b652ca4af39ff814e086690a79",
       "version_major": 2,
       "version_minor": 0
      },
      "text/plain": [
       "Validation: 0it [00:00, ?it/s]"
      ]
     },
     "metadata": {},
     "output_type": "display_data"
    },
    {
     "name": "stdout",
     "output_type": "stream",
     "text": [
      "Adjusting learning rate of group 0 to 1.0000e-04.\n"
     ]
    },
    {
     "data": {
      "application/vnd.jupyter.widget-view+json": {
       "model_id": "e487faad09c6476cb3ad2130aff4c414",
       "version_major": 2,
       "version_minor": 0
      },
      "text/plain": [
       "Validation: 0it [00:00, ?it/s]"
      ]
     },
     "metadata": {},
     "output_type": "display_data"
    },
    {
     "name": "stdout",
     "output_type": "stream",
     "text": [
      "Adjusting learning rate of group 0 to 1.0000e-04.\n"
     ]
    },
    {
     "data": {
      "application/vnd.jupyter.widget-view+json": {
       "model_id": "bdaa1e241f7249d9af2c85ea5350091d",
       "version_major": 2,
       "version_minor": 0
      },
      "text/plain": [
       "Validation: 0it [00:00, ?it/s]"
      ]
     },
     "metadata": {},
     "output_type": "display_data"
    },
    {
     "name": "stdout",
     "output_type": "stream",
     "text": [
      "Adjusting learning rate of group 0 to 1.0000e-04.\n"
     ]
    },
    {
     "data": {
      "application/vnd.jupyter.widget-view+json": {
       "model_id": "dd7427e5fe954db893089a2d6865cefd",
       "version_major": 2,
       "version_minor": 0
      },
      "text/plain": [
       "Validation: 0it [00:00, ?it/s]"
      ]
     },
     "metadata": {},
     "output_type": "display_data"
    },
    {
     "name": "stdout",
     "output_type": "stream",
     "text": [
      "Adjusting learning rate of group 0 to 1.0000e-04.\n"
     ]
    },
    {
     "data": {
      "application/vnd.jupyter.widget-view+json": {
       "model_id": "93761c0122124dc6855748e4f3d38803",
       "version_major": 2,
       "version_minor": 0
      },
      "text/plain": [
       "Validation: 0it [00:00, ?it/s]"
      ]
     },
     "metadata": {},
     "output_type": "display_data"
    },
    {
     "name": "stderr",
     "output_type": "stream",
     "text": [
      "Metric val_acc improved by 0.001 >= min_delta = 0.0. New best score: 0.840\n"
     ]
    },
    {
     "name": "stdout",
     "output_type": "stream",
     "text": [
      "Adjusting learning rate of group 0 to 1.0000e-04.\n"
     ]
    },
    {
     "data": {
      "application/vnd.jupyter.widget-view+json": {
       "model_id": "555d1f2c94ba408080ebea09ee75150f",
       "version_major": 2,
       "version_minor": 0
      },
      "text/plain": [
       "Validation: 0it [00:00, ?it/s]"
      ]
     },
     "metadata": {},
     "output_type": "display_data"
    },
    {
     "name": "stdout",
     "output_type": "stream",
     "text": [
      "Adjusting learning rate of group 0 to 1.0000e-04.\n"
     ]
    },
    {
     "data": {
      "application/vnd.jupyter.widget-view+json": {
       "model_id": "a94735f09fc24b98a7c7a963f24ed682",
       "version_major": 2,
       "version_minor": 0
      },
      "text/plain": [
       "Validation: 0it [00:00, ?it/s]"
      ]
     },
     "metadata": {},
     "output_type": "display_data"
    },
    {
     "name": "stderr",
     "output_type": "stream",
     "text": [
      "Metric val_acc improved by 0.001 >= min_delta = 0.0. New best score: 0.841\n"
     ]
    },
    {
     "name": "stdout",
     "output_type": "stream",
     "text": [
      "Adjusting learning rate of group 0 to 1.0000e-04.\n"
     ]
    },
    {
     "data": {
      "application/vnd.jupyter.widget-view+json": {
       "model_id": "aa637f626c2e4ae189f945370efa2519",
       "version_major": 2,
       "version_minor": 0
      },
      "text/plain": [
       "Validation: 0it [00:00, ?it/s]"
      ]
     },
     "metadata": {},
     "output_type": "display_data"
    },
    {
     "name": "stderr",
     "output_type": "stream",
     "text": [
      "Metric val_acc improved by 0.007 >= min_delta = 0.0. New best score: 0.848\n"
     ]
    },
    {
     "name": "stdout",
     "output_type": "stream",
     "text": [
      "Adjusting learning rate of group 0 to 1.0000e-04.\n"
     ]
    },
    {
     "data": {
      "application/vnd.jupyter.widget-view+json": {
       "model_id": "195c28a2ada84d4e9f7c15236aa5c6a4",
       "version_major": 2,
       "version_minor": 0
      },
      "text/plain": [
       "Validation: 0it [00:00, ?it/s]"
      ]
     },
     "metadata": {},
     "output_type": "display_data"
    },
    {
     "name": "stdout",
     "output_type": "stream",
     "text": [
      "Adjusting learning rate of group 0 to 1.0000e-04.\n"
     ]
    },
    {
     "data": {
      "application/vnd.jupyter.widget-view+json": {
       "model_id": "c552f03101104b23b8b775b614f34fc3",
       "version_major": 2,
       "version_minor": 0
      },
      "text/plain": [
       "Validation: 0it [00:00, ?it/s]"
      ]
     },
     "metadata": {},
     "output_type": "display_data"
    },
    {
     "name": "stdout",
     "output_type": "stream",
     "text": [
      "Adjusting learning rate of group 0 to 1.0000e-04.\n"
     ]
    },
    {
     "data": {
      "application/vnd.jupyter.widget-view+json": {
       "model_id": "4763450291be4696a3f5baea629f55fd",
       "version_major": 2,
       "version_minor": 0
      },
      "text/plain": [
       "Validation: 0it [00:00, ?it/s]"
      ]
     },
     "metadata": {},
     "output_type": "display_data"
    },
    {
     "name": "stdout",
     "output_type": "stream",
     "text": [
      "Adjusting learning rate of group 0 to 1.0000e-04.\n"
     ]
    },
    {
     "data": {
      "application/vnd.jupyter.widget-view+json": {
       "model_id": "0c56ef66d8d14547a8a0ba9d433b1100",
       "version_major": 2,
       "version_minor": 0
      },
      "text/plain": [
       "Validation: 0it [00:00, ?it/s]"
      ]
     },
     "metadata": {},
     "output_type": "display_data"
    },
    {
     "name": "stdout",
     "output_type": "stream",
     "text": [
      "Adjusting learning rate of group 0 to 1.0000e-04.\n"
     ]
    },
    {
     "data": {
      "application/vnd.jupyter.widget-view+json": {
       "model_id": "b9ddeccaa4dd43909d4e842ae7148d41",
       "version_major": 2,
       "version_minor": 0
      },
      "text/plain": [
       "Validation: 0it [00:00, ?it/s]"
      ]
     },
     "metadata": {},
     "output_type": "display_data"
    },
    {
     "name": "stdout",
     "output_type": "stream",
     "text": [
      "Adjusting learning rate of group 0 to 1.0000e-05.\n"
     ]
    },
    {
     "data": {
      "application/vnd.jupyter.widget-view+json": {
       "model_id": "9d1b6afd205142cd842574a1ad03bc1d",
       "version_major": 2,
       "version_minor": 0
      },
      "text/plain": [
       "Validation: 0it [00:00, ?it/s]"
      ]
     },
     "metadata": {},
     "output_type": "display_data"
    },
    {
     "name": "stdout",
     "output_type": "stream",
     "text": [
      "Adjusting learning rate of group 0 to 1.0000e-05.\n"
     ]
    },
    {
     "data": {
      "application/vnd.jupyter.widget-view+json": {
       "model_id": "cfda42640cc542d3821af5e5da9da19b",
       "version_major": 2,
       "version_minor": 0
      },
      "text/plain": [
       "Validation: 0it [00:00, ?it/s]"
      ]
     },
     "metadata": {},
     "output_type": "display_data"
    },
    {
     "name": "stdout",
     "output_type": "stream",
     "text": [
      "Adjusting learning rate of group 0 to 1.0000e-05.\n"
     ]
    },
    {
     "data": {
      "application/vnd.jupyter.widget-view+json": {
       "model_id": "8c2b4a0d1e3c43c4bd60bf876bb286ca",
       "version_major": 2,
       "version_minor": 0
      },
      "text/plain": [
       "Validation: 0it [00:00, ?it/s]"
      ]
     },
     "metadata": {},
     "output_type": "display_data"
    },
    {
     "name": "stdout",
     "output_type": "stream",
     "text": [
      "Adjusting learning rate of group 0 to 1.0000e-05.\n"
     ]
    },
    {
     "data": {
      "application/vnd.jupyter.widget-view+json": {
       "model_id": "3fe2bcfa43c44f24994081c633f2739b",
       "version_major": 2,
       "version_minor": 0
      },
      "text/plain": [
       "Validation: 0it [00:00, ?it/s]"
      ]
     },
     "metadata": {},
     "output_type": "display_data"
    },
    {
     "name": "stdout",
     "output_type": "stream",
     "text": [
      "Adjusting learning rate of group 0 to 1.0000e-05.\n"
     ]
    },
    {
     "data": {
      "application/vnd.jupyter.widget-view+json": {
       "model_id": "e0ad8c9a3942445598a10b2f1b7065d6",
       "version_major": 2,
       "version_minor": 0
      },
      "text/plain": [
       "Validation: 0it [00:00, ?it/s]"
      ]
     },
     "metadata": {},
     "output_type": "display_data"
    },
    {
     "name": "stdout",
     "output_type": "stream",
     "text": [
      "Adjusting learning rate of group 0 to 1.0000e-05.\n"
     ]
    },
    {
     "data": {
      "application/vnd.jupyter.widget-view+json": {
       "model_id": "954acd7605da4215a9ccfae1c2f34012",
       "version_major": 2,
       "version_minor": 0
      },
      "text/plain": [
       "Validation: 0it [00:00, ?it/s]"
      ]
     },
     "metadata": {},
     "output_type": "display_data"
    },
    {
     "name": "stdout",
     "output_type": "stream",
     "text": [
      "Adjusting learning rate of group 0 to 1.0000e-05.\n"
     ]
    },
    {
     "data": {
      "application/vnd.jupyter.widget-view+json": {
       "model_id": "1e2ed70f1b154b3c91d539f720823f78",
       "version_major": 2,
       "version_minor": 0
      },
      "text/plain": [
       "Validation: 0it [00:00, ?it/s]"
      ]
     },
     "metadata": {},
     "output_type": "display_data"
    },
    {
     "name": "stdout",
     "output_type": "stream",
     "text": [
      "Adjusting learning rate of group 0 to 1.0000e-05.\n"
     ]
    },
    {
     "data": {
      "application/vnd.jupyter.widget-view+json": {
       "model_id": "7fb1957d5e714ee08f4d705ccbe44998",
       "version_major": 2,
       "version_minor": 0
      },
      "text/plain": [
       "Validation: 0it [00:00, ?it/s]"
      ]
     },
     "metadata": {},
     "output_type": "display_data"
    },
    {
     "name": "stdout",
     "output_type": "stream",
     "text": [
      "Adjusting learning rate of group 0 to 1.0000e-05.\n"
     ]
    },
    {
     "data": {
      "application/vnd.jupyter.widget-view+json": {
       "model_id": "fb1a170fad4442c8b52ae92d4a04911f",
       "version_major": 2,
       "version_minor": 0
      },
      "text/plain": [
       "Validation: 0it [00:00, ?it/s]"
      ]
     },
     "metadata": {},
     "output_type": "display_data"
    },
    {
     "name": "stdout",
     "output_type": "stream",
     "text": [
      "Adjusting learning rate of group 0 to 1.0000e-05.\n"
     ]
    },
    {
     "data": {
      "application/vnd.jupyter.widget-view+json": {
       "model_id": "71a6e75fba304a60888f1be4ff89ae72",
       "version_major": 2,
       "version_minor": 0
      },
      "text/plain": [
       "Validation: 0it [00:00, ?it/s]"
      ]
     },
     "metadata": {},
     "output_type": "display_data"
    },
    {
     "name": "stderr",
     "output_type": "stream",
     "text": [
      "Metric val_acc improved by 0.007 >= min_delta = 0.0. New best score: 0.854\n"
     ]
    },
    {
     "name": "stdout",
     "output_type": "stream",
     "text": [
      "Adjusting learning rate of group 0 to 1.0000e-05.\n"
     ]
    },
    {
     "data": {
      "application/vnd.jupyter.widget-view+json": {
       "model_id": "9b7afb6de2c64b6db1f62857a786780e",
       "version_major": 2,
       "version_minor": 0
      },
      "text/plain": [
       "Validation: 0it [00:00, ?it/s]"
      ]
     },
     "metadata": {},
     "output_type": "display_data"
    },
    {
     "name": "stdout",
     "output_type": "stream",
     "text": [
      "Adjusting learning rate of group 0 to 1.0000e-05.\n"
     ]
    },
    {
     "data": {
      "application/vnd.jupyter.widget-view+json": {
       "model_id": "887f725e5043431a967eedfb4b52a3f9",
       "version_major": 2,
       "version_minor": 0
      },
      "text/plain": [
       "Validation: 0it [00:00, ?it/s]"
      ]
     },
     "metadata": {},
     "output_type": "display_data"
    },
    {
     "name": "stdout",
     "output_type": "stream",
     "text": [
      "Adjusting learning rate of group 0 to 1.0000e-05.\n"
     ]
    },
    {
     "data": {
      "application/vnd.jupyter.widget-view+json": {
       "model_id": "9a5dce8f857649c7986f1e44520d15ef",
       "version_major": 2,
       "version_minor": 0
      },
      "text/plain": [
       "Validation: 0it [00:00, ?it/s]"
      ]
     },
     "metadata": {},
     "output_type": "display_data"
    },
    {
     "name": "stdout",
     "output_type": "stream",
     "text": [
      "Adjusting learning rate of group 0 to 1.0000e-05.\n"
     ]
    },
    {
     "data": {
      "application/vnd.jupyter.widget-view+json": {
       "model_id": "ae7a94f8c192444382258cb16b3dd32d",
       "version_major": 2,
       "version_minor": 0
      },
      "text/plain": [
       "Validation: 0it [00:00, ?it/s]"
      ]
     },
     "metadata": {},
     "output_type": "display_data"
    },
    {
     "name": "stdout",
     "output_type": "stream",
     "text": [
      "Adjusting learning rate of group 0 to 1.0000e-05.\n"
     ]
    },
    {
     "data": {
      "application/vnd.jupyter.widget-view+json": {
       "model_id": "500c063c09a44cdbba995d2e09b58350",
       "version_major": 2,
       "version_minor": 0
      },
      "text/plain": [
       "Validation: 0it [00:00, ?it/s]"
      ]
     },
     "metadata": {},
     "output_type": "display_data"
    },
    {
     "name": "stdout",
     "output_type": "stream",
     "text": [
      "Adjusting learning rate of group 0 to 1.0000e-05.\n"
     ]
    },
    {
     "data": {
      "application/vnd.jupyter.widget-view+json": {
       "model_id": "b0381397fd85446d8a673182852915e0",
       "version_major": 2,
       "version_minor": 0
      },
      "text/plain": [
       "Validation: 0it [00:00, ?it/s]"
      ]
     },
     "metadata": {},
     "output_type": "display_data"
    },
    {
     "name": "stdout",
     "output_type": "stream",
     "text": [
      "Adjusting learning rate of group 0 to 1.0000e-05.\n"
     ]
    },
    {
     "data": {
      "application/vnd.jupyter.widget-view+json": {
       "model_id": "5441ee8548714d7a969ff3de8dc68480",
       "version_major": 2,
       "version_minor": 0
      },
      "text/plain": [
       "Validation: 0it [00:00, ?it/s]"
      ]
     },
     "metadata": {},
     "output_type": "display_data"
    },
    {
     "name": "stdout",
     "output_type": "stream",
     "text": [
      "Adjusting learning rate of group 0 to 1.0000e-05.\n"
     ]
    },
    {
     "data": {
      "application/vnd.jupyter.widget-view+json": {
       "model_id": "696fd085248a4823ba45579e2be2f397",
       "version_major": 2,
       "version_minor": 0
      },
      "text/plain": [
       "Validation: 0it [00:00, ?it/s]"
      ]
     },
     "metadata": {},
     "output_type": "display_data"
    },
    {
     "name": "stdout",
     "output_type": "stream",
     "text": [
      "Adjusting learning rate of group 0 to 1.0000e-05.\n"
     ]
    },
    {
     "data": {
      "application/vnd.jupyter.widget-view+json": {
       "model_id": "0730e4c55ed94037b787f30412c726ad",
       "version_major": 2,
       "version_minor": 0
      },
      "text/plain": [
       "Validation: 0it [00:00, ?it/s]"
      ]
     },
     "metadata": {},
     "output_type": "display_data"
    },
    {
     "name": "stdout",
     "output_type": "stream",
     "text": [
      "Adjusting learning rate of group 0 to 1.0000e-05.\n"
     ]
    },
    {
     "data": {
      "application/vnd.jupyter.widget-view+json": {
       "model_id": "c74fb6af1f884f17a8a8856ccf9cf123",
       "version_major": 2,
       "version_minor": 0
      },
      "text/plain": [
       "Validation: 0it [00:00, ?it/s]"
      ]
     },
     "metadata": {},
     "output_type": "display_data"
    },
    {
     "name": "stdout",
     "output_type": "stream",
     "text": [
      "Adjusting learning rate of group 0 to 1.0000e-05.\n"
     ]
    },
    {
     "data": {
      "application/vnd.jupyter.widget-view+json": {
       "model_id": "1646b04329ab4952bf32886fef180043",
       "version_major": 2,
       "version_minor": 0
      },
      "text/plain": [
       "Validation: 0it [00:00, ?it/s]"
      ]
     },
     "metadata": {},
     "output_type": "display_data"
    },
    {
     "name": "stdout",
     "output_type": "stream",
     "text": [
      "Adjusting learning rate of group 0 to 1.0000e-05.\n"
     ]
    },
    {
     "data": {
      "application/vnd.jupyter.widget-view+json": {
       "model_id": "78d8fe3ef40d4c5192e583a644f079cc",
       "version_major": 2,
       "version_minor": 0
      },
      "text/plain": [
       "Validation: 0it [00:00, ?it/s]"
      ]
     },
     "metadata": {},
     "output_type": "display_data"
    },
    {
     "name": "stdout",
     "output_type": "stream",
     "text": [
      "Adjusting learning rate of group 0 to 1.0000e-05.\n"
     ]
    },
    {
     "data": {
      "application/vnd.jupyter.widget-view+json": {
       "model_id": "3a66f1c438d94a7baafba3a0faa2b6fc",
       "version_major": 2,
       "version_minor": 0
      },
      "text/plain": [
       "Validation: 0it [00:00, ?it/s]"
      ]
     },
     "metadata": {},
     "output_type": "display_data"
    },
    {
     "name": "stdout",
     "output_type": "stream",
     "text": [
      "Adjusting learning rate of group 0 to 1.0000e-05.\n"
     ]
    },
    {
     "data": {
      "application/vnd.jupyter.widget-view+json": {
       "model_id": "c708d4b7211e4873ac1cc052dd8f4bf0",
       "version_major": 2,
       "version_minor": 0
      },
      "text/plain": [
       "Validation: 0it [00:00, ?it/s]"
      ]
     },
     "metadata": {},
     "output_type": "display_data"
    },
    {
     "name": "stdout",
     "output_type": "stream",
     "text": [
      "Adjusting learning rate of group 0 to 1.0000e-05.\n"
     ]
    },
    {
     "data": {
      "application/vnd.jupyter.widget-view+json": {
       "model_id": "ff8737999a184b67a733fdd78477f53d",
       "version_major": 2,
       "version_minor": 0
      },
      "text/plain": [
       "Validation: 0it [00:00, ?it/s]"
      ]
     },
     "metadata": {},
     "output_type": "display_data"
    },
    {
     "name": "stdout",
     "output_type": "stream",
     "text": [
      "Adjusting learning rate of group 0 to 1.0000e-05.\n"
     ]
    },
    {
     "data": {
      "application/vnd.jupyter.widget-view+json": {
       "model_id": "3d6a6deed299498f9766031780f31984",
       "version_major": 2,
       "version_minor": 0
      },
      "text/plain": [
       "Validation: 0it [00:00, ?it/s]"
      ]
     },
     "metadata": {},
     "output_type": "display_data"
    },
    {
     "name": "stdout",
     "output_type": "stream",
     "text": [
      "Adjusting learning rate of group 0 to 1.0000e-05.\n"
     ]
    },
    {
     "data": {
      "application/vnd.jupyter.widget-view+json": {
       "model_id": "10ce6762ed934264bad100bc6b476ef2",
       "version_major": 2,
       "version_minor": 0
      },
      "text/plain": [
       "Validation: 0it [00:00, ?it/s]"
      ]
     },
     "metadata": {},
     "output_type": "display_data"
    },
    {
     "name": "stdout",
     "output_type": "stream",
     "text": [
      "Adjusting learning rate of group 0 to 1.0000e-05.\n"
     ]
    },
    {
     "data": {
      "application/vnd.jupyter.widget-view+json": {
       "model_id": "00c8f5add1254db2b0eed8dbdb643b79",
       "version_major": 2,
       "version_minor": 0
      },
      "text/plain": [
       "Validation: 0it [00:00, ?it/s]"
      ]
     },
     "metadata": {},
     "output_type": "display_data"
    },
    {
     "name": "stdout",
     "output_type": "stream",
     "text": [
      "Adjusting learning rate of group 0 to 1.0000e-05.\n"
     ]
    },
    {
     "data": {
      "application/vnd.jupyter.widget-view+json": {
       "model_id": "c233946b6d014733833178893266fdbe",
       "version_major": 2,
       "version_minor": 0
      },
      "text/plain": [
       "Validation: 0it [00:00, ?it/s]"
      ]
     },
     "metadata": {},
     "output_type": "display_data"
    },
    {
     "name": "stdout",
     "output_type": "stream",
     "text": [
      "Adjusting learning rate of group 0 to 1.0000e-05.\n"
     ]
    },
    {
     "data": {
      "application/vnd.jupyter.widget-view+json": {
       "model_id": "fa4f03e1aa574b02a0f534bd55dd9882",
       "version_major": 2,
       "version_minor": 0
      },
      "text/plain": [
       "Validation: 0it [00:00, ?it/s]"
      ]
     },
     "metadata": {},
     "output_type": "display_data"
    },
    {
     "name": "stderr",
     "output_type": "stream",
     "text": [
      "Monitored metric val_acc did not improve in the last 20 records. Best score: 0.854. Signaling Trainer to stop.\n",
      "/Users/alexviller/micromamba/envs/testenv/lib/python3.11/site-packages/lightning/pytorch/trainer/connectors/data_connector.py:430: PossibleUserWarning: The dataloader, test_dataloader, does not have many workers which may be a bottleneck. Consider increasing the value of the `num_workers` argument` (try 8 which is the number of cpus on this machine) in the `DataLoader` init to improve performance.\n",
      "  rank_zero_warn(\n"
     ]
    },
    {
     "data": {
      "application/vnd.jupyter.widget-view+json": {
       "model_id": "7a99cec95a3d4b6eadce0dc04c553177",
       "version_major": 2,
       "version_minor": 0
      },
      "text/plain": [
       "Testing: 0it [00:00, ?it/s]"
      ]
     },
     "metadata": {},
     "output_type": "display_data"
    },
    {
     "data": {
      "text/html": [
       "<pre style=\"white-space:pre;overflow-x:auto;line-height:normal;font-family:Menlo,'DejaVu Sans Mono',consolas,'Courier New',monospace\">┏━━━━━━━━━━━━━━━━━━━━━━━━━━━┳━━━━━━━━━━━━━━━━━━━━━━━━━━━┓\n",
       "┃<span style=\"font-weight: bold\">   Runningstage.testing    </span>┃<span style=\"font-weight: bold\">                           </span>┃\n",
       "┃<span style=\"font-weight: bold\">          metric           </span>┃<span style=\"font-weight: bold\">       DataLoader 0        </span>┃\n",
       "┡━━━━━━━━━━━━━━━━━━━━━━━━━━━╇━━━━━━━━━━━━━━━━━━━━━━━━━━━┩\n",
       "│<span style=\"color: #008080; text-decoration-color: #008080\">    test_accuracy_epoch    </span>│<span style=\"color: #800080; text-decoration-color: #800080\">    0.8632392287254333     </span>│\n",
       "│<span style=\"color: #008080; text-decoration-color: #008080\">      test_loss_epoch      </span>│<span style=\"color: #800080; text-decoration-color: #800080\">    0.4620138704776764     </span>│\n",
       "└───────────────────────────┴───────────────────────────┘\n",
       "</pre>\n"
      ],
      "text/plain": [
       "┏━━━━━━━━━━━━━━━━━━━━━━━━━━━┳━━━━━━━━━━━━━━━━━━━━━━━━━━━┓\n",
       "┃\u001b[1m \u001b[0m\u001b[1m  Runningstage.testing   \u001b[0m\u001b[1m \u001b[0m┃\u001b[1m                           \u001b[0m┃\n",
       "┃\u001b[1m \u001b[0m\u001b[1m         metric          \u001b[0m\u001b[1m \u001b[0m┃\u001b[1m \u001b[0m\u001b[1m      DataLoader 0       \u001b[0m\u001b[1m \u001b[0m┃\n",
       "┡━━━━━━━━━━━━━━━━━━━━━━━━━━━╇━━━━━━━━━━━━━━━━━━━━━━━━━━━┩\n",
       "│\u001b[36m \u001b[0m\u001b[36m   test_accuracy_epoch   \u001b[0m\u001b[36m \u001b[0m│\u001b[35m \u001b[0m\u001b[35m   0.8632392287254333    \u001b[0m\u001b[35m \u001b[0m│\n",
       "│\u001b[36m \u001b[0m\u001b[36m     test_loss_epoch     \u001b[0m\u001b[36m \u001b[0m│\u001b[35m \u001b[0m\u001b[35m   0.4620138704776764    \u001b[0m\u001b[35m \u001b[0m│\n",
       "└───────────────────────────┴───────────────────────────┘\n"
      ]
     },
     "metadata": {},
     "output_type": "display_data"
    },
    {
     "data": {
      "text/plain": [
       "[{'test_loss_epoch': 0.4620138704776764,\n",
       "  'test_accuracy_epoch': 0.8632392287254333}]"
      ]
     },
     "execution_count": 10,
     "metadata": {},
     "output_type": "execute_result"
    }
   ],
   "source": [
    "# Data setup\n",
    "batch_size = 128\n",
    "train_loader = DataLoader(\n",
    "    train_dataset,\n",
    "    batch_size=batch_size,\n",
    "    shuffle=True,\n",
    ")\n",
    "val_loader = DataLoader(\n",
    "    val_dataset,\n",
    "    batch_size=batch_size,\n",
    ")\n",
    "test_loader = DataLoader(\n",
    "    test_dataset,\n",
    "    batch_size=batch_size,\n",
    ")\n",
    "\n",
    "input_size = MLP_X_train.shape[1]\n",
    "hidden_size = 8192\n",
    "num_classes = len(new_df[\"Classification_seq\"].unique())\n",
    "lr = 1e-3\n",
    "EPOCHS = 200\n",
    "\n",
    "model = CNNClassifier(\n",
    "    input_size=input_size,\n",
    "    hidden_size=hidden_size,\n",
    "    num_classes=num_classes + 1,\n",
    "    lr=lr,\n",
    ")\n",
    "\n",
    "wandb.finish(1)\n",
    "wandb.init(\n",
    "    project=\"COMP4702\",\n",
    "    config={\n",
    "        \"learning_rate\": lr,\n",
    "        \"batch_size\": batch_size,\n",
    "        \"hidden_size\": hidden_size,\n",
    "        \"input_size\": input_size,\n",
    "        \"num_classes\": num_classes,\n",
    "        \"model_architecture\": \"CNN\",\n",
    "        \"dataset\": \"Nutrition\",\n",
    "    },\n",
    ")\n",
    "\n",
    "wandb_logger = WandbLogger(project=\"Nutrition_Assignment_\")\n",
    "# Create the EarlyStopping and LearningRateMonitor callbacks\n",
    "early_stopping = EarlyStopping(\n",
    "    monitor=\"val_acc\", mode=\"max\", verbose=True, patience=20, stopping_threshold=0.989\n",
    ")\n",
    "lr_monitor = LearningRateMonitor(logging_interval=\"step\")\n",
    "metrics_callback = MetricsCallback(classes=list(new_df[\"Classification_seq\"].unique()))\n",
    "callback_list: list[Callback] = [\n",
    "    early_stopping,\n",
    "    lr_monitor,\n",
    "    metrics_callback,\n",
    "]\n",
    "\n",
    "# Trainer setup\n",
    "trainer = pl.Trainer(\n",
    "    max_epochs=EPOCHS,\n",
    "    logger=wandb_logger,\n",
    "    callbacks=callback_list,\n",
    ")\n",
    "\n",
    "# Model training\n",
    "trainer.fit(model=model, train_dataloaders=train_loader, val_dataloaders=val_loader)\n",
    "\n",
    "# Model testing\n",
    "trainer.test(model, test_loader)\n"
   ]
  },
  {
   "cell_type": "code",
   "execution_count": 11,
   "metadata": {
    "notebookRunGroups": {
     "groupValue": "1"
    }
   },
   "outputs": [
    {
     "name": "stdout",
     "output_type": "stream",
     "text": [
      "                                               precision    recall  f1-score   support\n",
      "\n",
      "                         Alcoholic beverages        0.98      0.98      0.98       186\n",
      "             Cereal based products and dishes       0.85      0.91      0.88       186\n",
      "                 Cereals and cereal products        0.90      0.71      0.80       186\n",
      "Confectionery and cereal/nut/fruit/seed bars        0.95      0.98      0.96       186\n",
      "                     Dairy & meat substitutes       0.67      0.85      0.75       186\n",
      "                               Fats and oils        0.86      0.97      0.91       186\n",
      "        Fish and seafood products and dishes        0.91      0.96      0.93       186\n",
      "                   Fruit products and dishes        0.85      0.74      0.79       186\n",
      "        Legume and pulse products and dishes        0.81      0.99      0.89       186\n",
      "  Meat, poultry and game products and dishes        0.90      0.84      0.87       186\n",
      "                    Milk products and dishes        0.78      0.94      0.85       186\n",
      "                               Miscellaneous        0.99      0.91      0.95       186\n",
      "                      Non-alcoholic beverages       0.77      0.80      0.78       186\n",
      "               Savoury sauces and condiments        0.92      0.72      0.81       186\n",
      "            Seed and nut products and dishes        0.95      0.76      0.84       186\n",
      "               Vegetable products and dishes        0.85      0.75      0.80       186\n",
      "\n",
      "                                     accuracy                           0.86      2976\n",
      "                                    macro avg       0.87      0.86      0.86      2976\n",
      "                                 weighted avg       0.87      0.86      0.86      2976\n",
      "\n"
     ]
    }
   ],
   "source": [
    "# Additional evaluation on test set\n",
    "model.eval()\n",
    "y_true = []\n",
    "y_pred = []\n",
    "y_proba = []\n",
    "with torch.no_grad():\n",
    "    for batch in test_loader:\n",
    "        inputs, labels = batch\n",
    "        outputs = model(inputs)\n",
    "        _, predicted = torch.max(outputs, 1)\n",
    "        y_true.extend(labels.tolist())\n",
    "        y_pred.extend(predicted.tolist())\n",
    "        y_proba.extend(outputs.tolist())\n",
    "\n",
    "print(\n",
    "    classification_report(\n",
    "        [*map(mapped_dict.get, y_true)], [*map(mapped_dict.get, y_pred)]\n",
    "    )\n",
    ")\n"
   ]
  }
 ],
 "metadata": {
  "kernelspec": {
   "display_name": "Python 3 (ipykernel)",
   "language": "python",
   "name": "python3"
  },
  "language_info": {
   "codemirror_mode": {
    "name": "ipython",
    "version": 3
   },
   "file_extension": ".py",
   "mimetype": "text/x-python",
   "name": "python",
   "nbconvert_exporter": "python",
   "pygments_lexer": "ipython3",
   "version": "3.11.3"
  }
 },
 "nbformat": 4,
 "nbformat_minor": 2
}
