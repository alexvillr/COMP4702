{
 "cells": [
  {
   "cell_type": "code",
   "execution_count": 5,
   "metadata": {},
   "outputs": [],
   "source": [
    "import pandas as pd"
   ]
  },
  {
   "cell_type": "code",
   "execution_count": 6,
   "metadata": {},
   "outputs": [
    {
     "name": "stdout",
     "output_type": "stream",
     "text": [
      "  Public Food Key Food Profile ID Derivation  \\\n",
      "0         F002258           14723   Borrowed   \n",
      "1         F002963           14718   Borrowed   \n",
      "2         F002970           14725   Borrowed   \n",
      "3         F003190           14727   Borrowed   \n",
      "4         F003327           14728   Borrowed   \n",
      "\n",
      "                            Food Name  \\\n",
      "0        Cardamom seed, dried, ground   \n",
      "1             Cinnamon, dried, ground   \n",
      "2               Cloves, dried, ground   \n",
      "3       Coriander seed, dried, ground   \n",
      "4  Cumin (cummin) seed, dried, ground   \n",
      "\n",
      "                                    Food Description  \\\n",
      "0  Ground spice commonly used in Indian cooking a...   \n",
      "1  Dried and ground bark or quills of Cinnamomum ...   \n",
      "2  Dried and ground, unopened flower buds of Syzy...   \n",
      "3  Dried and ground fruit or seed of Coriandrum s...   \n",
      "4  Dried and ground fruit or seeds of Cuminum cym...   \n",
      "\n",
      "                                    Sampling Details Nitrogen Factor  \\\n",
      "0  The majority of nutrient data were borrowed fr...            6.25   \n",
      "1  The majority of nutrient data were borrowed fr...            6.25   \n",
      "2  The majority of nutrient data were borrowed fr...            6.25   \n",
      "3  The majority of nutrient data were borrowed fr...            6.25   \n",
      "4  The majority of nutrient data were borrowed fr...            6.25   \n",
      "\n",
      "  Fat Factor Specific Gravity Analysed Portion Unanalysed Portion  \\\n",
      "0      0.956                0             100%                 0%   \n",
      "1      0.956                0             100%                 0%   \n",
      "2      0.956                0             100%                 0%   \n",
      "3      0.956                0             100%                 0%   \n",
      "4      0.956                0             100%                 0%   \n",
      "\n",
      "   Classification      Classification Name  \n",
      "0         31302.0  Herbs(dried) and spices  \n",
      "1         31302.0  Herbs(dried) and spices  \n",
      "2         31302.0  Herbs(dried) and spices  \n",
      "3         31302.0  Herbs(dried) and spices  \n",
      "4         31302.0  Herbs(dried) and spices  \n"
     ]
    }
   ],
   "source": [
    "df = pd.read_excel(\n",
    "    io=\"./Datasets/Rel_2_Food_details.xlsx\",\n",
    "    sheet_name=\"AFCD - Release 2\"\n",
    ")"
   ]
  }
 ],
 "metadata": {
  "kernelspec": {
   "display_name": "comp4702",
   "language": "python",
   "name": "python3"
  },
  "language_info": {
   "codemirror_mode": {
    "name": "ipython",
    "version": 3
   },
   "file_extension": ".py",
   "mimetype": "text/x-python",
   "name": "python",
   "nbconvert_exporter": "python",
   "pygments_lexer": "ipython3",
   "version": "3.11.0"
  },
  "orig_nbformat": 4
 },
 "nbformat": 4,
 "nbformat_minor": 2
}
