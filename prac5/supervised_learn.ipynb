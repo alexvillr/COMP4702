{
 "cells": [
  {
   "cell_type": "code",
   "execution_count": 1,
   "metadata": {
    "pycharm": {
     "is_executing": true
    }
   },
   "outputs": [],
   "source": [
    "import pandas as pd\n",
    "from sklearn.model_selection import train_test_split"
   ]
  },
  {
   "cell_type": "markdown",
   "metadata": {},
   "source": [
    "# Q1"
   ]
  },
  {
   "cell_type": "code",
   "execution_count": 2,
   "metadata": {},
   "outputs": [],
   "source": [
    "# Load dataset\n",
    "w3classif = pd.read_csv('w3classif.csv')"
   ]
  },
  {
   "cell_type": "code",
   "execution_count": 3,
   "metadata": {},
   "outputs": [],
   "source": [
    "n_Shuffles = 10\n",
    "\n",
    "def create_train_test_data(test_size=0.3):\n",
    "  # For storing data\n",
    "  trains, tests = [], []\n",
    "\n",
    "  for i in range(n_Shuffles):\n",
    "    train_data, test_data = train_test_split(w3classif, test_size=test_size, shuffle=True)\n",
    "\n",
    "    # Store data\n",
    "    trains.append((train_data.iloc[:, 0:-1], train_data.iloc[:, -1]))\n",
    "    tests.append((test_data.iloc[:, 0:-1], test_data.iloc[:, -1]))\n",
    "\n",
    "  return trains, tests"
   ]
  },
  {
   "cell_type": "markdown",
   "metadata": {},
   "source": [
    "# Q2"
   ]
  },
  {
   "cell_type": "code",
   "execution_count": 4,
   "metadata": {},
   "outputs": [],
   "source": [
    "from sklearn.neighbors import KNeighborsClassifier\n",
    "from sklearn.metrics import accuracy_score\n",
    "import numpy as np"
   ]
  },
  {
   "cell_type": "code",
   "execution_count": 5,
   "metadata": {},
   "outputs": [],
   "source": [
    "def repeat_knn(trials=10, test_size=0.3):\n",
    "\n",
    "  # For storing\n",
    "  train_losses, test_losses = [], []\n",
    "\n",
    "  # Create train and test datasets (calling the function you created previously)\n",
    "  trains, tests = create_train_test_data(test_size)\n",
    "\n",
    "  for i in range(trials):\n",
    "    X_train, y_train = trains[i]\n",
    "    X_test, y_test = tests[i]\n",
    "\n",
    "    \n",
    "    knn_classif = KNeighborsClassifier(n_neighbors=3)\n",
    "\n",
    "    knn_classif.fit(X_train, y_train)\n",
    "\n",
    "    train_pred = knn_classif.predict(X_train)\n",
    "    test_pred = knn_classif.predict(X_test)\n",
    "\n",
    "    train_acc = accuracy_score(y_pred=train_pred, y_true=y_train)\n",
    "    test_acc = accuracy_score(y_pred=test_pred, y_true=y_test)\n",
    "\n",
    "    train_loss = 1 - train_acc\n",
    "    test_loss = 1 - test_acc\n",
    "\n",
    "    train_losses.append(train_loss)\n",
    "    test_losses.append(test_loss)\n",
    "\n",
    "\n",
    "  return train_losses, test_losses"
   ]
  },
  {
   "cell_type": "code",
   "execution_count": 6,
   "metadata": {},
   "outputs": [
    {
     "name": "stdout",
     "output_type": "stream",
     "text": [
      "Avg Training Loss (Misclassification Rate): 2.71%\n",
      "Avg Test Loss (Misclassification Rate): 4.33%\n"
     ]
    }
   ],
   "source": [
    "# Print the average training and test losses for 10 trials using the function implemented above\n",
    "train_losses, test_losses = repeat_knn(trials=10, test_size=0.3)\n",
    "print(f'Avg Training Loss (Misclassification Rate): {np.array(train_losses).mean() * 100:.2f}%')\n",
    "print(f'Avg Test Loss (Misclassification Rate): {np.array(test_losses).mean() * 100:.2f}%')"
   ]
  },
  {
   "cell_type": "markdown",
   "metadata": {},
   "source": [
    "# Q3"
   ]
  },
  {
   "cell_type": "code",
   "execution_count": 7,
   "metadata": {},
   "outputs": [
    {
     "name": "stdout",
     "output_type": "stream",
     "text": [
      "\tfor a test size that is 10.0% of the dataset\n",
      "\tAvg Training Loss (Misclassification Rate): 2.72%\n",
      "\tAvg Test Loss (Misclassification Rate): 4.50%\n",
      "<================================================================>\n",
      "\tfor a test size that is 30.0% of the dataset\n",
      "\tAvg Training Loss (Misclassification Rate): 2.82%\n",
      "\tAvg Test Loss (Misclassification Rate): 4.67%\n",
      "<================================================================>\n",
      "\tfor a test size that is 50.0% of the dataset\n",
      "\tAvg Training Loss (Misclassification Rate): 2.75%\n",
      "\tAvg Test Loss (Misclassification Rate): 4.60%\n",
      "<================================================================>\n",
      "\tfor a test size that is 70.0% of the dataset\n",
      "\tAvg Training Loss (Misclassification Rate): 2.83%\n",
      "\tAvg Test Loss (Misclassification Rate): 4.61%\n",
      "<================================================================>\n"
     ]
    }
   ],
   "source": [
    "test_sizes = [0.1, 0.3, 0.5, 0.7]\n",
    "\n",
    "for ts in test_sizes:\n",
    "  train_losses, test_losses = repeat_knn(trials=10, test_size=ts)\n",
    "  print(f'\\tfor a test size that is {ts * 100}% of the dataset')\n",
    "  print(f'\\tAvg Training Loss (Misclassification Rate): {np.array(train_losses).mean() * 100:.2f}%')\n",
    "  print(f'\\tAvg Test Loss (Misclassification Rate): {np.array(test_losses).mean() * 100:.2f}%')\n",
    "  print(f'<================================================================>')"
   ]
  },
  {
   "cell_type": "markdown",
   "metadata": {},
   "source": [
    "# Q4"
   ]
  },
  {
   "cell_type": "code",
   "execution_count": 8,
   "metadata": {},
   "outputs": [
    {
     "name": "stdout",
     "output_type": "stream",
     "text": [
      "\tfor a test size that is 10.0% of the dataset\n",
      "\tStandard Deviation of train set (Misclassification Rate): 0.00\n",
      "\tStandard Deviation of test set (Misclassification Rate): 0.05\n",
      "<================================================================>\n",
      "\tfor a test size that is 30.0% of the dataset\n",
      "\tStandard Deviation of train set (Misclassification Rate): 0.01\n",
      "\tStandard Deviation of test set (Misclassification Rate): 0.04\n",
      "<================================================================>\n",
      "\tfor a test size that is 50.0% of the dataset\n",
      "\tStandard Deviation of train set (Misclassification Rate): 0.01\n",
      "\tStandard Deviation of test set (Misclassification Rate): 0.04\n",
      "<================================================================>\n",
      "\tfor a test size that is 70.0% of the dataset\n",
      "\tStandard Deviation of train set (Misclassification Rate): 0.01\n",
      "\tStandard Deviation of test set (Misclassification Rate): 0.05\n",
      "<================================================================>\n"
     ]
    }
   ],
   "source": [
    "test_sizes = [0.1, 0.3, 0.5, 0.7]\n",
    "\n",
    "for ts in test_sizes:\n",
    "  # TODO: Calculate the sample standard deviation of your training and test set error values over the 10 trials \n",
    "  train_losses, test_losses = repeat_knn(trials=10, test_size=ts)\n",
    "  print(f'\\tfor a test size that is {ts * 100}% of the dataset')\n",
    "  print(f'\\tStandard Deviation of train set (Misclassification Rate): {np.array(train_losses).std():.2f}')\n",
    "  print(f'\\tStandard Deviation of test set (Misclassification Rate): {np.array(test_losses).mean():.2f}')\n",
    "  print(f'<================================================================>')"
   ]
  },
  {
   "cell_type": "markdown",
   "metadata": {},
   "source": [
    "# Q5"
   ]
  },
  {
   "cell_type": "code",
   "execution_count": 9,
   "metadata": {},
   "outputs": [
    {
     "name": "stdout",
     "output_type": "stream",
     "text": [
      "0.9949999999999999\n",
      "0.010000000000000009\n"
     ]
    }
   ],
   "source": [
    "from sklearn.model_selection import cross_val_score\n",
    "\n",
    "shuffle_w3classif = w3classif.sample(frac=1, random_state=42).reset_index()\n",
    "X = shuffle_w3classif.iloc[:, :-1]\n",
    "y = shuffle_w3classif.iloc[:, -1]\n",
    "\n",
    "knn_classif = KNeighborsClassifier(n_neighbors=3)\n",
    "\n",
    "num_folds = 10\n",
    "cross_validation = cross_val_score(estimator=knn_classif, X=X, y=y, cv=num_folds)\n",
    "\n",
    "print(f\"{cross_validation.mean()}\")\n",
    "print(f\"{cross_validation.std()}\")"
   ]
  }
 ],
 "metadata": {
  "kernelspec": {
   "display_name": "Python 3",
   "language": "python",
   "name": "python3"
  },
  "language_info": {
   "codemirror_mode": {
    "name": "ipython",
    "version": 3
   },
   "file_extension": ".py",
   "mimetype": "text/x-python",
   "name": "python",
   "nbconvert_exporter": "python",
   "pygments_lexer": "ipython3",
   "version": "3.12.2"
  }
 },
 "nbformat": 4,
 "nbformat_minor": 0
}
