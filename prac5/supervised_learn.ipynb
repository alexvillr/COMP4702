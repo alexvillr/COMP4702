{
 "cells": [
  {
   "cell_type": "code",
   "execution_count": 1,
   "metadata": {
    "collapsed": true
   },
   "outputs": [],
   "source": [
    "import numpy as np\n",
    "import pandas as pd\n",
    "from typing import Set\n",
    "import matplotlib.pyplot as plt\n",
    "from sklearn.model_selection import train_test_split\n",
    "from sklearn.preprocessing import StandardScaler\n",
    "from traintestinfo import TrainTestInfo\n",
    "from sklearn.neighbors import KNeighborsClassifier\n",
    "from sklearn.metrics import accuracy_score\n",
    "from sklearn.tree import DecisionTreeClassifier"
   ]
  },
  {
   "cell_type": "code",
   "execution_count": 2,
   "outputs": [],
   "source": [
    "classifierDF = pd.read_csv(\"w3classif.csv\")"
   ],
   "metadata": {
    "collapsed": false
   }
  },
  {
   "cell_type": "code",
   "execution_count": 3,
   "outputs": [],
   "source": [
    "trainTestSets = []\n",
    "\n",
    "for i in range(10):\n",
    "    trainTestSets[i] = train_test_split(classifierDF, test_size=0.3, random_state=42, shuffle=True)\n"
   ],
   "metadata": {
    "collapsed": false
   }
  },
  {
   "cell_type": "code",
   "execution_count": 4,
   "outputs": [],
   "source": [
    "for (classTrainSet, classTestSet) in trainTestSets:\n",
    "    target = 'class'\n",
    "    clasif_X_train = classTrainSet.drop(columns=[target])\n",
    "    clasif_y_train = classTrainSet[target]\n",
    "    clasif_X_test = classTestSet.drop(columns=[target])\n",
    "    clasif_y_test = classTestSet[target]\n",
    "\n",
    "    scaler = StandardScaler()\n",
    "    clasif_X_train = scaler.fit_transform(clasif_X_train)\n",
    "    clasif_X_test = scaler.transform(clasif_X_test)"
   ],
   "metadata": {
    "collapsed": false
   }
  }
 ],
 "metadata": {
  "kernelspec": {
   "display_name": "Python 3",
   "language": "python",
   "name": "python3"
  },
  "language_info": {
   "codemirror_mode": {
    "name": "ipython",
    "version": 2
   },
   "file_extension": ".py",
   "mimetype": "text/x-python",
   "name": "python",
   "nbconvert_exporter": "python",
   "pygments_lexer": "ipython2",
   "version": "2.7.6"
  }
 },
 "nbformat": 4,
 "nbformat_minor": 0
}
