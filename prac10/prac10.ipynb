{
 "cells": [
  {
   "cell_type": "code",
   "execution_count": null,
   "metadata": {},
   "outputs": [],
   "source": [
    "# import libraries\n",
    "import pandas as pd\n",
    "import numpy as np\n",
    "import seaborn as sns\n",
    "import matplotlib.pyplot as plt"
   ]
  },
  {
   "cell_type": "code",
   "execution_count": null,
   "metadata": {},
   "outputs": [],
   "source": [
    "# Load dataset\n",
    "data = pd.read_csv(\"w3classif.csv\", names=[\"X1\", \"X2\", \"Y\"])"
   ]
  },
  {
   "cell_type": "code",
   "execution_count": null,
   "metadata": {},
   "outputs": [],
   "source": [
    "from sklearn.model_selection import train_test_split\n",
    "\n",
    "# TODO: Shuffle and split the data\n",
    "X_train, X_holdout, y_train, y_holdout = train_test_split(data[\"X1\", \"X2\"], data[\"Y\"], test_size=0.3, random_state=42)"
   ]
  },
  {
   "cell_type": "markdown",
   "metadata": {},
   "source": [
    "# Q1\n",
    "Fit a single decision tree classifier to the dataset"
   ]
  },
  {
   "cell_type": "code",
   "execution_count": null,
   "metadata": {},
   "outputs": [],
   "source": [
    "from sklearn.tree import DecisionTreeClassifier\n",
    "\n",
    "# TODO: Fit a single Decision Tree classifier to the training data with default parameters\n",
    "tree = DecisionTreeClassifier()\n",
    "\n",
    "# TODO: Predict on training and holdout sets\n",
    "\n",
    "\n",
    "# TODO: Calculate Etrain and Ehold-out\n",
    "\n",
    "\n",
    "# Print the results\n",
    "print(\"Etrain:\", Etrain_tree)\n",
    "print(\"Ehold-out:\", Eholdout_tree)"
   ]
  },
  {
   "cell_type": "markdown",
   "metadata": {},
   "source": [
    "# Q2\n",
    "Fit a bagging ensemble method to the same training data using the Random Forest algorithm"
   ]
  },
  {
   "cell_type": "code",
   "execution_count": null,
   "metadata": {},
   "outputs": [],
   "source": [
    "from sklearn.ensemble import RandomForestClassifier\n",
    "\n",
    "# TODO: Fit a Random Forest ensemble with 100 trees\n",
    "forest =\n",
    "\n",
    "# TODO: Predict on training and holdout sets\n",
    "\n",
    "\n",
    "# TODO: Calculate Etrain and Ehold-out\n",
    "\n",
    "\n",
    "# Print the results\n",
    "print(\"Etrain:\", Etrain_forest)\n",
    "print(\"Ehold-out:\", Eholdout_forest)"
   ]
  },
  {
   "cell_type": "markdown",
   "metadata": {},
   "source": [
    "# Q3\n",
    "Repeat DecisionTreeClassifier for different depths and plot the train errors"
   ]
  },
  {
   "cell_type": "code",
   "execution_count": null,
   "metadata": {},
   "outputs": [],
   "source": [
    "depths = np.arange(1, 20)\n",
    "Etrain_tree_depths = []\n",
    "Eholdout_tree_depths = []\n",
    "\n",
    "# TODO: train a DecisionTreeClassifier with different depths and record the errors\n",
    "for depth in depths:\n",
    "  # TODO: Fit the model\n",
    "\n",
    "  # TODO: Predict on training and holdout sets\n",
    "\n",
    "  # TODO: Calculate Etrain and Ehold-out\n",
    "\n",
    "plt.plot(depths, Etrain_tree_depths, label=\"Etrain\")\n",
    "plt.xlabel(\"Tree Depth\")\n",
    "plt.ylabel(\"Error\")\n",
    "plt.legend()\n",
    "plt.show()"
   ]
  },
  {
   "cell_type": "markdown",
   "metadata": {},
   "source": [
    "Repeat RandomForestClassifier for different ensemble sizes and plot the train error"
   ]
  },
  {
   "cell_type": "code",
   "execution_count": null,
   "metadata": {},
   "outputs": [],
   "source": [
    "ensemble_sizes = np.arange(1, 101)\n",
    "Etrain_forest_sizes = []\n",
    "Eholdout_forest_sizes = []\n",
    "\n",
    "# TODO: train a RandomForestClassifier with different estimator sizes and record the errors\n",
    "for size in ensemble_sizes:\n",
    "  # TODO: Fit the model\n",
    "\n",
    "  # TODO: Predict on training and holdout sets\n",
    "\n",
    "  # TODO: Calculate Etrain and Ehold-out\n",
    "\n",
    "plt.plot(ensemble_sizes, Etrain_forest_sizes, label=\"Etrain\")\n",
    "plt.xlabel(\"Ensemble Size\")\n",
    "plt.ylabel(\"Error\")\n",
    "plt.legend()\n",
    "plt.show()"
   ]
  },
  {
   "cell_type": "markdown",
   "metadata": {},
   "source": [
    "# Q4\n",
    "Generate a much larger version of the dataset as data: for each input variable, half of the input data points (for class 0) are drawn from a Normal distribution with mean = 0 and standard deviation = 1, the other half (for class 1) from a Normal distribution with mean = 3 and standard deviation = 1.5."
   ]
  },
  {
   "cell_type": "code",
   "execution_count": null,
   "metadata": {},
   "outputs": [],
   "source": [
    "N = 5000 # size of the dataset\n",
    "\n",
    "# TODO: Generate a much larger version of the dataset with specified means and variances from a normal distribution\n",
    "\n",
    "# TODO: Combine the data into a single DataFrame\n",
    "\n",
    "# TODO: Shuffle the dataset"
   ]
  },
  {
   "cell_type": "markdown",
   "metadata": {},
   "source": [
    "Split your large dataset into (e.g 10) equal parts. Consider each part as your holdout set and remaining 9 parts as your training set, and fit a decision tree model. Calculate the variance for each model, and for the final model."
   ]
  },
  {
   "cell_type": "code",
   "execution_count": null,
   "metadata": {},
   "outputs": [],
   "source": [
    "num_parts = 10\n",
    "# TODO: Split the data into 10 equal parts\n",
    "\n",
    "\n",
    "# Initialize lists to store errors\n",
    "Etrain_tree_parts = []\n",
    "Eholdout_tree_parts = []\n",
    "\n",
    "# Loop through each part as the holdout set\n",
    "for i in range(num_parts):\n",
    "  # TODO: Extract the ith part as the holdout set\n",
    "\n",
    "\n",
    "  # TODO: Combine the remaining parts as the training set\n",
    "\n",
    "\n",
    "  # TODO: Fit a decision tree on the training set\n",
    "\n",
    "\n",
    "  # TODO: Predict on the training and holdout sets\n",
    "\n",
    "\n",
    "  # TODO: Calculate Etrain and Eholdout\n",
    "\n",
    "\n",
    "# TODO: Calculate the final variance of the error\n",
    "\n",
    "\n",
    "# Print the result\n",
    "print(\"Final mean of the train error:\", Etrain_tree_mean)\n",
    "print(\"Final mean of the holdout error:\", Eholdout_tree_mean)\n"
   ]
  },
  {
   "cell_type": "markdown",
   "metadata": {},
   "source": [
    "Repeat the above with a Random Forest Classifier"
   ]
  },
  {
   "cell_type": "code",
   "execution_count": null,
   "metadata": {},
   "outputs": [],
   "source": [
    "# TODO: Shuffle the large dataset again\n",
    "\n",
    "# TODO: Split the data into 10 equal parts\n",
    "\n",
    "\n",
    "# Initialize lists to store errors\n",
    "Etrain_forest_parts = []\n",
    "Eholdout_forest_parts = []\n",
    "\n",
    "# Loop through each part as the holdout set\n",
    "for i in range(num_parts):\n",
    "  # TODO: Extract the ith part as the holdout set\n",
    "\n",
    "\n",
    "  # TODO: Combine the remaining parts as the training set\n",
    "\n",
    "\n",
    "  # TODO: Fit a random forest classifier on the training set\n",
    "\n",
    "\n",
    "  # TODO: Predict on the training and holdout sets\n",
    "\n",
    "\n",
    "  # TODO: Calculate Etrain and Eholdout\n",
    "\n",
    "\n",
    "# TODO: Calculate the final variance of the error\n",
    "\n",
    "# Print the result\n",
    "print(\"Final mean of the train error:\", Etrain_forest_mean)\n",
    "print(\"Final mean of the holdout error:\", Eholdout_forest_mean)"
   ]
  },
  {
   "cell_type": "markdown",
   "metadata": {},
   "source": [
    "# Q5\n",
    "Fit a boosting ensemble method to the initial training data using the AdaBoost algorithm. Calculate Etrain and Ehold-out for the ensemble."
   ]
  },
  {
   "cell_type": "code",
   "execution_count": null,
   "metadata": {},
   "outputs": [],
   "source": [
    "from sklearn.ensemble import AdaBoostClassifier\n",
    "\n",
    "# TODO: Fit an AdaBoost ensemble with 100 trees\n",
    "boost =\n",
    "\n",
    "# TODO: Predict on training and holdout sets\n",
    "\n",
    "\n",
    "# TODO: Calculate Etrain and Ehold-out\n",
    "\n",
    "\n",
    "# Print the results\n",
    "print(\"Etrain:\", Etrain_boost)\n",
    "print(\"Ehold-out:\", Eholdout_boost)"
   ]
  }
 ],
 "metadata": {
  "kernelspec": {
   "display_name": "4702-tutoring",
   "language": "python",
   "name": "python3"
  },
  "language_info": {
   "name": "python",
   "version": "3.11.8"
  }
 },
 "nbformat": 4,
 "nbformat_minor": 2
}
